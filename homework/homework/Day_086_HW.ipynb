{
 "cells": [
  {
   "cell_type": "markdown",
   "metadata": {},
   "source": [
    "## Work\n",
    "1. 試比較 save_best_only 與否的差異\n",
    "2. 請僅存入將 save_weights_only 設定為 True, 並嘗試 reset ipynb 並將模型與權重重新建回並預測 x_test"
   ]
  },
  {
   "cell_type": "code",
   "execution_count": 2,
   "metadata": {},
   "outputs": [
    {
     "name": "stderr",
     "output_type": "stream",
     "text": [
      "Using TensorFlow backend.\n"
     ]
    }
   ],
   "source": [
    "import os\n",
    "import keras\n",
    "\n",
    "# Disable GPU\n",
    "os.environ[\"CUDA_VISIBLE_DEVICES\"] = \"\""
   ]
  },
  {
   "cell_type": "code",
   "execution_count": 3,
   "metadata": {},
   "outputs": [],
   "source": [
    "train, test = keras.datasets.cifar10.load_data()"
   ]
  },
  {
   "cell_type": "code",
   "execution_count": 4,
   "metadata": {},
   "outputs": [],
   "source": [
    "## 資料前處理\n",
    "def preproc_x(x, flatten=True):\n",
    "    x = x / 255.\n",
    "    if flatten:\n",
    "        x = x.reshape((len(x), -1))\n",
    "    return x\n",
    "\n",
    "def preproc_y(y, num_classes=10):\n",
    "    if y.shape[-1] == 1:\n",
    "        y = keras.utils.to_categorical(y, num_classes)\n",
    "    return y    "
   ]
  },
  {
   "cell_type": "code",
   "execution_count": 5,
   "metadata": {},
   "outputs": [],
   "source": [
    "x_train, y_train = train\n",
    "x_test, y_test = test\n",
    "\n",
    "# Preproc the inputs\n",
    "x_train = preproc_x(x_train)\n",
    "x_test = preproc_x(x_test)\n",
    "\n",
    "# Preprc the outputs\n",
    "y_train = preproc_y(y_train)\n",
    "y_test = preproc_y(y_test)"
   ]
  },
  {
   "cell_type": "code",
   "execution_count": 6,
   "metadata": {},
   "outputs": [],
   "source": [
    "from keras.layers import BatchNormalization\n",
    "\n",
    "\"\"\"\n",
    "建立神經網路，並加入 BN layer\n",
    "\"\"\"\n",
    "def build_mlp(input_shape, output_units=10, num_neurons=[512, 256, 128]):\n",
    "    input_layer = keras.layers.Input(input_shape)\n",
    "    \n",
    "    for i, n_units in enumerate(num_neurons):\n",
    "        if i == 0:\n",
    "            x = keras.layers.Dense(units=n_units, \n",
    "                                   activation=\"relu\", \n",
    "                                   name=\"hidden_layer\"+str(i+1))(input_layer)\n",
    "            x = BatchNormalization()(x)\n",
    "        else:\n",
    "            x = keras.layers.Dense(units=n_units, \n",
    "                                   activation=\"relu\", \n",
    "                                   name=\"hidden_layer\"+str(i+1))(x)\n",
    "            x = BatchNormalization()(x)\n",
    "    \n",
    "    out = keras.layers.Dense(units=output_units, activation=\"softmax\", name=\"output\")(x)\n",
    "    \n",
    "    model = keras.models.Model(inputs=[input_layer], outputs=[out])\n",
    "    return model"
   ]
  },
  {
   "cell_type": "code",
   "execution_count": 7,
   "metadata": {},
   "outputs": [],
   "source": [
    "## 超參數設定\n",
    "LEARNING_RATE = 1e-3\n",
    "EPOCHS = 50\n",
    "BATCH_SIZE = 1024\n",
    "MOMENTUM = 0.95"
   ]
  },
  {
   "cell_type": "code",
   "execution_count": 10,
   "metadata": {},
   "outputs": [],
   "source": [
    "# 載入 Callbacks\n",
    "\"\"\"\n",
    "Code Here\n",
    "設定 callbacks: model checkpoint\n",
    "\"\"\"\n",
    "from keras.callbacks import ModelCheckpoint\n",
    "\n",
    "model_ckpt = ModelCheckpoint(filepath=\"./tmp.h5\",\n",
    "                             monitor=\"val_loss\",\n",
    "                             save_weights_only=True) "
   ]
  },
  {
   "cell_type": "code",
   "execution_count": 14,
   "metadata": {},
   "outputs": [
    {
     "name": "stdout",
     "output_type": "stream",
     "text": [
      "Model: \"model_1\"\n",
      "_________________________________________________________________\n",
      "Layer (type)                 Output Shape              Param #   \n",
      "=================================================================\n",
      "input_1 (InputLayer)         (None, 3072)              0         \n",
      "_________________________________________________________________\n",
      "hidden_layer1 (Dense)        (None, 512)               1573376   \n",
      "_________________________________________________________________\n",
      "batch_normalization_1 (Batch (None, 512)               2048      \n",
      "_________________________________________________________________\n",
      "hidden_layer2 (Dense)        (None, 256)               131328    \n",
      "_________________________________________________________________\n",
      "batch_normalization_2 (Batch (None, 256)               1024      \n",
      "_________________________________________________________________\n",
      "hidden_layer3 (Dense)        (None, 128)               32896     \n",
      "_________________________________________________________________\n",
      "batch_normalization_3 (Batch (None, 128)               512       \n",
      "_________________________________________________________________\n",
      "output (Dense)               (None, 10)                1290      \n",
      "=================================================================\n",
      "Total params: 1,742,474\n",
      "Trainable params: 1,740,682\n",
      "Non-trainable params: 1,792\n",
      "_________________________________________________________________\n",
      "Train on 50000 samples, validate on 10000 samples\n",
      "Epoch 1/50\n",
      "50000/50000 [==============================] - 12s 234us/step - loss: 2.2049 - accuracy: 0.2671 - val_loss: 2.1302 - val_accuracy: 0.1910\n",
      "Epoch 2/50\n",
      "50000/50000 [==============================] - 10s 207us/step - loss: 1.7373 - accuracy: 0.3926 - val_loss: 1.9978 - val_accuracy: 0.2788\n",
      "Epoch 3/50\n",
      "50000/50000 [==============================] - 10s 209us/step - loss: 1.6161 - accuracy: 0.4341 - val_loss: 1.8324 - val_accuracy: 0.3698\n",
      "Epoch 4/50\n",
      "50000/50000 [==============================] - 11s 213us/step - loss: 1.5444 - accuracy: 0.4601 - val_loss: 1.7099 - val_accuracy: 0.4087\n",
      "Epoch 5/50\n",
      "50000/50000 [==============================] - 11s 221us/step - loss: 1.4897 - accuracy: 0.4804 - val_loss: 1.6196 - val_accuracy: 0.4371\n",
      "Epoch 6/50\n",
      "50000/50000 [==============================] - 12s 232us/step - loss: 1.4466 - accuracy: 0.4953 - val_loss: 1.5731 - val_accuracy: 0.4484\n",
      "Epoch 7/50\n",
      "50000/50000 [==============================] - 11s 225us/step - loss: 1.4081 - accuracy: 0.5092 - val_loss: 1.5325 - val_accuracy: 0.4572\n",
      "Epoch 8/50\n",
      "50000/50000 [==============================] - 11s 219us/step - loss: 1.3739 - accuracy: 0.5213 - val_loss: 1.5159 - val_accuracy: 0.4613\n",
      "Epoch 9/50\n",
      "50000/50000 [==============================] - 13s 255us/step - loss: 1.3421 - accuracy: 0.5321 - val_loss: 1.4943 - val_accuracy: 0.4679\n",
      "Epoch 10/50\n",
      "50000/50000 [==============================] - 13s 261us/step - loss: 1.3123 - accuracy: 0.5436 - val_loss: 1.4859 - val_accuracy: 0.4716\n",
      "Epoch 11/50\n",
      "50000/50000 [==============================] - 10s 198us/step - loss: 1.2856 - accuracy: 0.5529 - val_loss: 1.4709 - val_accuracy: 0.4789\n",
      "Epoch 12/50\n",
      "50000/50000 [==============================] - 8s 169us/step - loss: 1.2584 - accuracy: 0.5648 - val_loss: 1.4675 - val_accuracy: 0.4808\n",
      "Epoch 13/50\n",
      "50000/50000 [==============================] - 8s 165us/step - loss: 1.2344 - accuracy: 0.5739 - val_loss: 1.4799 - val_accuracy: 0.4751\n",
      "Epoch 14/50\n",
      "50000/50000 [==============================] - 8s 159us/step - loss: 1.2100 - accuracy: 0.5822 - val_loss: 1.4559 - val_accuracy: 0.4815\n",
      "Epoch 15/50\n",
      "50000/50000 [==============================] - 8s 168us/step - loss: 1.1856 - accuracy: 0.5922 - val_loss: 1.4557 - val_accuracy: 0.4864\n",
      "Epoch 16/50\n",
      "50000/50000 [==============================] - 9s 182us/step - loss: 1.1616 - accuracy: 0.6009 - val_loss: 1.4418 - val_accuracy: 0.4909\n",
      "Epoch 17/50\n",
      "50000/50000 [==============================] - 9s 180us/step - loss: 1.1380 - accuracy: 0.6109 - val_loss: 1.4455 - val_accuracy: 0.4897\n",
      "Epoch 18/50\n",
      "50000/50000 [==============================] - 10s 201us/step - loss: 1.1178 - accuracy: 0.6177 - val_loss: 1.4518 - val_accuracy: 0.4883\n",
      "Epoch 19/50\n",
      "50000/50000 [==============================] - 11s 213us/step - loss: 1.0956 - accuracy: 0.6232 - val_loss: 1.4520 - val_accuracy: 0.4853\n",
      "Epoch 20/50\n",
      "50000/50000 [==============================] - 11s 226us/step - loss: 1.0720 - accuracy: 0.6341 - val_loss: 1.4449 - val_accuracy: 0.4976\n",
      "Epoch 21/50\n",
      "50000/50000 [==============================] - 10s 210us/step - loss: 1.0506 - accuracy: 0.6424 - val_loss: 1.4351 - val_accuracy: 0.4929\n",
      "Epoch 22/50\n",
      "50000/50000 [==============================] - 10s 194us/step - loss: 1.0290 - accuracy: 0.6522 - val_loss: 1.4432 - val_accuracy: 0.4964\n",
      "Epoch 23/50\n",
      "50000/50000 [==============================] - 10s 198us/step - loss: 1.0083 - accuracy: 0.6587 - val_loss: 1.4514 - val_accuracy: 0.4928\n",
      "Epoch 24/50\n",
      "50000/50000 [==============================] - 12s 245us/step - loss: 0.9881 - accuracy: 0.6666 - val_loss: 1.4440 - val_accuracy: 0.4930\n",
      "Epoch 25/50\n",
      "50000/50000 [==============================] - 10s 201us/step - loss: 0.9687 - accuracy: 0.6752 - val_loss: 1.4491 - val_accuracy: 0.4909\n",
      "Epoch 26/50\n",
      "50000/50000 [==============================] - 10s 194us/step - loss: 0.9476 - accuracy: 0.6821 - val_loss: 1.4581 - val_accuracy: 0.4920\n",
      "Epoch 27/50\n",
      "50000/50000 [==============================] - 8s 155us/step - loss: 0.9268 - accuracy: 0.6927 - val_loss: 1.4619 - val_accuracy: 0.4964\n",
      "Epoch 28/50\n",
      "50000/50000 [==============================] - 10s 204us/step - loss: 0.9073 - accuracy: 0.6970 - val_loss: 1.4506 - val_accuracy: 0.4965\n",
      "Epoch 29/50\n",
      "50000/50000 [==============================] - 8s 166us/step - loss: 0.8870 - accuracy: 0.7067 - val_loss: 1.4703 - val_accuracy: 0.4920\n",
      "Epoch 30/50\n",
      "50000/50000 [==============================] - 9s 188us/step - loss: 0.8698 - accuracy: 0.7129 - val_loss: 1.4681 - val_accuracy: 0.4943\n",
      "Epoch 31/50\n",
      "50000/50000 [==============================] - 12s 236us/step - loss: 0.8500 - accuracy: 0.7198 - val_loss: 1.4768 - val_accuracy: 0.4928\n",
      "Epoch 32/50\n",
      "50000/50000 [==============================] - 10s 192us/step - loss: 0.8320 - accuracy: 0.7269 - val_loss: 1.4825 - val_accuracy: 0.4943\n",
      "Epoch 33/50\n",
      "50000/50000 [==============================] - 9s 181us/step - loss: 0.8108 - accuracy: 0.7356 - val_loss: 1.4868 - val_accuracy: 0.4925\n",
      "Epoch 34/50\n",
      "50000/50000 [==============================] - 8s 157us/step - loss: 0.7911 - accuracy: 0.7442 - val_loss: 1.5110 - val_accuracy: 0.4925\n",
      "Epoch 35/50\n",
      "50000/50000 [==============================] - 8s 157us/step - loss: 0.7740 - accuracy: 0.7505 - val_loss: 1.4858 - val_accuracy: 0.4948\n",
      "Epoch 36/50\n",
      "50000/50000 [==============================] - 8s 158us/step - loss: 0.7549 - accuracy: 0.7583 - val_loss: 1.5079 - val_accuracy: 0.4936\n",
      "Epoch 37/50\n",
      "50000/50000 [==============================] - 9s 170us/step - loss: 0.7353 - accuracy: 0.7659 - val_loss: 1.5185 - val_accuracy: 0.4962\n",
      "Epoch 38/50\n",
      "50000/50000 [==============================] - 8s 166us/step - loss: 0.7178 - accuracy: 0.7713 - val_loss: 1.5168 - val_accuracy: 0.4922\n",
      "Epoch 39/50\n",
      "50000/50000 [==============================] - 8s 163us/step - loss: 0.6990 - accuracy: 0.7813 - val_loss: 1.5363 - val_accuracy: 0.4910\n",
      "Epoch 40/50\n",
      "50000/50000 [==============================] - 11s 213us/step - loss: 0.6813 - accuracy: 0.7869 - val_loss: 1.5423 - val_accuracy: 0.4913\n",
      "Epoch 41/50\n",
      "50000/50000 [==============================] - 9s 187us/step - loss: 0.6625 - accuracy: 0.7950 - val_loss: 1.5448 - val_accuracy: 0.4915\n",
      "Epoch 42/50\n",
      "50000/50000 [==============================] - 8s 159us/step - loss: 0.6454 - accuracy: 0.8021 - val_loss: 1.5693 - val_accuracy: 0.4908\n",
      "Epoch 43/50\n",
      "50000/50000 [==============================] - 8s 157us/step - loss: 0.6281 - accuracy: 0.8090 - val_loss: 1.5760 - val_accuracy: 0.4917\n",
      "Epoch 44/50\n",
      "50000/50000 [==============================] - 8s 166us/step - loss: 0.6116 - accuracy: 0.8149 - val_loss: 1.5782 - val_accuracy: 0.4924\n",
      "Epoch 45/50\n",
      "50000/50000 [==============================] - 8s 157us/step - loss: 0.5932 - accuracy: 0.8249 - val_loss: 1.6209 - val_accuracy: 0.4842\n",
      "Epoch 46/50\n"
     ]
    },
    {
     "name": "stdout",
     "output_type": "stream",
     "text": [
      "50000/50000 [==============================] - 8s 155us/step - loss: 0.5773 - accuracy: 0.8287 - val_loss: 1.6168 - val_accuracy: 0.4832\n",
      "Epoch 47/50\n",
      "50000/50000 [==============================] - 8s 155us/step - loss: 0.5600 - accuracy: 0.8363 - val_loss: 1.6226 - val_accuracy: 0.4888\n",
      "Epoch 48/50\n",
      "50000/50000 [==============================] - 8s 156us/step - loss: 0.5432 - accuracy: 0.8420 - val_loss: 1.6646 - val_accuracy: 0.4803\n",
      "Epoch 49/50\n",
      "50000/50000 [==============================] - 8s 156us/step - loss: 0.5253 - accuracy: 0.8495 - val_loss: 1.6527 - val_accuracy: 0.4822\n",
      "Epoch 50/50\n",
      "50000/50000 [==============================] - 8s 155us/step - loss: 0.5115 - accuracy: 0.8549 - val_loss: 1.6823 - val_accuracy: 0.4856\n"
     ]
    },
    {
     "ename": "ValueError",
     "evalue": "Cannot create group in read-only mode.",
     "output_type": "error",
     "traceback": [
      "\u001b[1;31m---------------------------------------------------------------------------\u001b[0m",
      "\u001b[1;31mValueError\u001b[0m                                Traceback (most recent call last)",
      "\u001b[1;32m<ipython-input-14-82aec180df25>\u001b[0m in \u001b[0;36m<module>\u001b[1;34m\u001b[0m\n\u001b[0;32m     19\u001b[0m \u001b[1;33m\u001b[0m\u001b[0m\n\u001b[0;32m     20\u001b[0m \u001b[1;31m# Load back\u001b[0m\u001b[1;33m\u001b[0m\u001b[1;33m\u001b[0m\u001b[1;33m\u001b[0m\u001b[0m\n\u001b[1;32m---> 21\u001b[1;33m \u001b[0mmodel\u001b[0m \u001b[1;33m=\u001b[0m \u001b[0mkeras\u001b[0m\u001b[1;33m.\u001b[0m\u001b[0mmodels\u001b[0m\u001b[1;33m.\u001b[0m\u001b[0mload_model\u001b[0m\u001b[1;33m(\u001b[0m\u001b[1;34m\"./tmp.h5\"\u001b[0m\u001b[1;33m)\u001b[0m\u001b[1;33m\u001b[0m\u001b[1;33m\u001b[0m\u001b[0m\n\u001b[0m\u001b[0;32m     22\u001b[0m \u001b[0mloss_loadback\u001b[0m\u001b[1;33m,\u001b[0m \u001b[0macc_loadback\u001b[0m \u001b[1;33m=\u001b[0m \u001b[0mmodel\u001b[0m\u001b[1;33m.\u001b[0m\u001b[0mevaluate\u001b[0m\u001b[1;33m(\u001b[0m\u001b[0mx_test\u001b[0m\u001b[1;33m,\u001b[0m \u001b[0my_test\u001b[0m\u001b[1;33m)\u001b[0m\u001b[1;33m\u001b[0m\u001b[1;33m\u001b[0m\u001b[0m\n",
      "\u001b[1;32mE:\\Anaconda3\\lib\\site-packages\\keras\\engine\\saving.py\u001b[0m in \u001b[0;36mload_wrapper\u001b[1;34m(*args, **kwargs)\u001b[0m\n\u001b[0;32m    490\u001b[0m                 \u001b[0mos\u001b[0m\u001b[1;33m.\u001b[0m\u001b[0mremove\u001b[0m\u001b[1;33m(\u001b[0m\u001b[0mtmp_filepath\u001b[0m\u001b[1;33m)\u001b[0m\u001b[1;33m\u001b[0m\u001b[1;33m\u001b[0m\u001b[0m\n\u001b[0;32m    491\u001b[0m             \u001b[1;32mreturn\u001b[0m \u001b[0mres\u001b[0m\u001b[1;33m\u001b[0m\u001b[1;33m\u001b[0m\u001b[0m\n\u001b[1;32m--> 492\u001b[1;33m         \u001b[1;32mreturn\u001b[0m \u001b[0mload_function\u001b[0m\u001b[1;33m(\u001b[0m\u001b[1;33m*\u001b[0m\u001b[0margs\u001b[0m\u001b[1;33m,\u001b[0m \u001b[1;33m**\u001b[0m\u001b[0mkwargs\u001b[0m\u001b[1;33m)\u001b[0m\u001b[1;33m\u001b[0m\u001b[1;33m\u001b[0m\u001b[0m\n\u001b[0m\u001b[0;32m    493\u001b[0m \u001b[1;33m\u001b[0m\u001b[0m\n\u001b[0;32m    494\u001b[0m     \u001b[1;32mreturn\u001b[0m \u001b[0mload_wrapper\u001b[0m\u001b[1;33m\u001b[0m\u001b[1;33m\u001b[0m\u001b[0m\n",
      "\u001b[1;32mE:\\Anaconda3\\lib\\site-packages\\keras\\engine\\saving.py\u001b[0m in \u001b[0;36mload_model\u001b[1;34m(filepath, custom_objects, compile)\u001b[0m\n\u001b[0;32m    582\u001b[0m     \u001b[1;32mif\u001b[0m \u001b[0mH5Dict\u001b[0m\u001b[1;33m.\u001b[0m\u001b[0mis_supported_type\u001b[0m\u001b[1;33m(\u001b[0m\u001b[0mfilepath\u001b[0m\u001b[1;33m)\u001b[0m\u001b[1;33m:\u001b[0m\u001b[1;33m\u001b[0m\u001b[1;33m\u001b[0m\u001b[0m\n\u001b[0;32m    583\u001b[0m         \u001b[1;32mwith\u001b[0m \u001b[0mH5Dict\u001b[0m\u001b[1;33m(\u001b[0m\u001b[0mfilepath\u001b[0m\u001b[1;33m,\u001b[0m \u001b[0mmode\u001b[0m\u001b[1;33m=\u001b[0m\u001b[1;34m'r'\u001b[0m\u001b[1;33m)\u001b[0m \u001b[1;32mas\u001b[0m \u001b[0mh5dict\u001b[0m\u001b[1;33m:\u001b[0m\u001b[1;33m\u001b[0m\u001b[1;33m\u001b[0m\u001b[0m\n\u001b[1;32m--> 584\u001b[1;33m             \u001b[0mmodel\u001b[0m \u001b[1;33m=\u001b[0m \u001b[0m_deserialize_model\u001b[0m\u001b[1;33m(\u001b[0m\u001b[0mh5dict\u001b[0m\u001b[1;33m,\u001b[0m \u001b[0mcustom_objects\u001b[0m\u001b[1;33m,\u001b[0m \u001b[0mcompile\u001b[0m\u001b[1;33m)\u001b[0m\u001b[1;33m\u001b[0m\u001b[1;33m\u001b[0m\u001b[0m\n\u001b[0m\u001b[0;32m    585\u001b[0m     \u001b[1;32melif\u001b[0m \u001b[0mhasattr\u001b[0m\u001b[1;33m(\u001b[0m\u001b[0mfilepath\u001b[0m\u001b[1;33m,\u001b[0m \u001b[1;34m'write'\u001b[0m\u001b[1;33m)\u001b[0m \u001b[1;32mand\u001b[0m \u001b[0mcallable\u001b[0m\u001b[1;33m(\u001b[0m\u001b[0mfilepath\u001b[0m\u001b[1;33m.\u001b[0m\u001b[0mwrite\u001b[0m\u001b[1;33m)\u001b[0m\u001b[1;33m:\u001b[0m\u001b[1;33m\u001b[0m\u001b[1;33m\u001b[0m\u001b[0m\n\u001b[0;32m    586\u001b[0m         \u001b[1;32mdef\u001b[0m \u001b[0mload_function\u001b[0m\u001b[1;33m(\u001b[0m\u001b[0mh5file\u001b[0m\u001b[1;33m)\u001b[0m\u001b[1;33m:\u001b[0m\u001b[1;33m\u001b[0m\u001b[1;33m\u001b[0m\u001b[0m\n",
      "\u001b[1;32mE:\\Anaconda3\\lib\\site-packages\\keras\\engine\\saving.py\u001b[0m in \u001b[0;36m_deserialize_model\u001b[1;34m(h5dict, custom_objects, compile)\u001b[0m\n\u001b[0;32m    268\u001b[0m         \u001b[1;32mreturn\u001b[0m \u001b[0mobj\u001b[0m\u001b[1;33m\u001b[0m\u001b[1;33m\u001b[0m\u001b[0m\n\u001b[0;32m    269\u001b[0m \u001b[1;33m\u001b[0m\u001b[0m\n\u001b[1;32m--> 270\u001b[1;33m     \u001b[0mmodel_config\u001b[0m \u001b[1;33m=\u001b[0m \u001b[0mh5dict\u001b[0m\u001b[1;33m[\u001b[0m\u001b[1;34m'model_config'\u001b[0m\u001b[1;33m]\u001b[0m\u001b[1;33m\u001b[0m\u001b[1;33m\u001b[0m\u001b[0m\n\u001b[0m\u001b[0;32m    271\u001b[0m     \u001b[1;32mif\u001b[0m \u001b[0mmodel_config\u001b[0m \u001b[1;32mis\u001b[0m \u001b[1;32mNone\u001b[0m\u001b[1;33m:\u001b[0m\u001b[1;33m\u001b[0m\u001b[1;33m\u001b[0m\u001b[0m\n\u001b[0;32m    272\u001b[0m         \u001b[1;32mraise\u001b[0m \u001b[0mValueError\u001b[0m\u001b[1;33m(\u001b[0m\u001b[1;34m'No model found in config.'\u001b[0m\u001b[1;33m)\u001b[0m\u001b[1;33m\u001b[0m\u001b[1;33m\u001b[0m\u001b[0m\n",
      "\u001b[1;32mE:\\Anaconda3\\lib\\site-packages\\keras\\utils\\io_utils.py\u001b[0m in \u001b[0;36m__getitem__\u001b[1;34m(self, attr)\u001b[0m\n\u001b[0;32m    316\u001b[0m             \u001b[1;32melse\u001b[0m\u001b[1;33m:\u001b[0m\u001b[1;33m\u001b[0m\u001b[1;33m\u001b[0m\u001b[0m\n\u001b[0;32m    317\u001b[0m                 \u001b[1;32mif\u001b[0m \u001b[0mself\u001b[0m\u001b[1;33m.\u001b[0m\u001b[0mread_only\u001b[0m\u001b[1;33m:\u001b[0m\u001b[1;33m\u001b[0m\u001b[1;33m\u001b[0m\u001b[0m\n\u001b[1;32m--> 318\u001b[1;33m                     \u001b[1;32mraise\u001b[0m \u001b[0mValueError\u001b[0m\u001b[1;33m(\u001b[0m\u001b[1;34m'Cannot create group in read-only mode.'\u001b[0m\u001b[1;33m)\u001b[0m\u001b[1;33m\u001b[0m\u001b[1;33m\u001b[0m\u001b[0m\n\u001b[0m\u001b[0;32m    319\u001b[0m                 \u001b[0mval\u001b[0m \u001b[1;33m=\u001b[0m \u001b[0mH5Dict\u001b[0m\u001b[1;33m(\u001b[0m\u001b[0mself\u001b[0m\u001b[1;33m.\u001b[0m\u001b[0mdata\u001b[0m\u001b[1;33m.\u001b[0m\u001b[0mcreate_group\u001b[0m\u001b[1;33m(\u001b[0m\u001b[0mattr\u001b[0m\u001b[1;33m)\u001b[0m\u001b[1;33m)\u001b[0m\u001b[1;33m\u001b[0m\u001b[1;33m\u001b[0m\u001b[0m\n\u001b[0;32m    320\u001b[0m         \u001b[1;32mreturn\u001b[0m \u001b[0mval\u001b[0m\u001b[1;33m\u001b[0m\u001b[1;33m\u001b[0m\u001b[0m\n",
      "\u001b[1;31mValueError\u001b[0m: Cannot create group in read-only mode."
     ]
    }
   ],
   "source": [
    "model = build_mlp(input_shape=x_train.shape[1:])\n",
    "model.summary()\n",
    "optimizer = keras.optimizers.SGD(lr=LEARNING_RATE, nesterov=True, momentum=MOMENTUM)\n",
    "model.compile(loss=\"categorical_crossentropy\", metrics=[\"accuracy\"], optimizer=optimizer)\n",
    "\n",
    "model.fit(x_train, y_train, \n",
    "          epochs=EPOCHS, \n",
    "          batch_size=BATCH_SIZE, \n",
    "          validation_data=(x_test, y_test), \n",
    "          shuffle=True,\n",
    "          callbacks=[model_ckpt] # Model Check Point\n",
    "         )\n",
    "\n",
    "# Collect results\n",
    "train_loss = model.history.history[\"loss\"]\n",
    "valid_loss = model.history.history[\"val_loss\"]\n",
    "train_acc = model.history.history[\"accuracy\"]\n",
    "valid_acc = model.history.history[\"val_accuracy\"]\n",
    "\n",
    "# Load back\n",
    "model = keras.models.load_model(\"./tmp.h5\")\n",
    "loss_loadback, acc_loadback = model.evaluate(x_test, y_test)"
   ]
  },
  {
   "cell_type": "code",
   "execution_count": 15,
   "metadata": {
    "scrolled": true
   },
   "outputs": [
    {
     "ename": "NameError",
     "evalue": "name 'loss_loadback' is not defined",
     "output_type": "error",
     "traceback": [
      "\u001b[1;31m---------------------------------------------------------------------------\u001b[0m",
      "\u001b[1;31mNameError\u001b[0m                                 Traceback (most recent call last)",
      "\u001b[1;32m<ipython-input-15-34461ad60eab>\u001b[0m in \u001b[0;36m<module>\u001b[1;34m\u001b[0m\n\u001b[0;32m      7\u001b[0m \u001b[0mplt\u001b[0m\u001b[1;33m.\u001b[0m\u001b[0mplot\u001b[0m\u001b[1;33m(\u001b[0m\u001b[0mrange\u001b[0m\u001b[1;33m(\u001b[0m\u001b[0mlen\u001b[0m\u001b[1;33m(\u001b[0m\u001b[0mtrain_loss\u001b[0m\u001b[1;33m)\u001b[0m\u001b[1;33m)\u001b[0m\u001b[1;33m,\u001b[0m \u001b[0mtrain_loss\u001b[0m\u001b[1;33m,\u001b[0m \u001b[0mlabel\u001b[0m\u001b[1;33m=\u001b[0m\u001b[1;34m\"train loss\"\u001b[0m\u001b[1;33m)\u001b[0m\u001b[1;33m\u001b[0m\u001b[1;33m\u001b[0m\u001b[0m\n\u001b[0;32m      8\u001b[0m \u001b[0mplt\u001b[0m\u001b[1;33m.\u001b[0m\u001b[0mplot\u001b[0m\u001b[1;33m(\u001b[0m\u001b[0mrange\u001b[0m\u001b[1;33m(\u001b[0m\u001b[0mlen\u001b[0m\u001b[1;33m(\u001b[0m\u001b[0mvalid_loss\u001b[0m\u001b[1;33m)\u001b[0m\u001b[1;33m)\u001b[0m\u001b[1;33m,\u001b[0m \u001b[0mvalid_loss\u001b[0m\u001b[1;33m,\u001b[0m \u001b[0mlabel\u001b[0m\u001b[1;33m=\u001b[0m\u001b[1;34m\"valid loss\"\u001b[0m\u001b[1;33m)\u001b[0m\u001b[1;33m\u001b[0m\u001b[1;33m\u001b[0m\u001b[0m\n\u001b[1;32m----> 9\u001b[1;33m \u001b[0mplt\u001b[0m\u001b[1;33m.\u001b[0m\u001b[0mhlines\u001b[0m\u001b[1;33m(\u001b[0m\u001b[0my\u001b[0m\u001b[1;33m=\u001b[0m\u001b[0mloss_loadback\u001b[0m\u001b[1;33m,\u001b[0m \u001b[0mxmin\u001b[0m\u001b[1;33m=\u001b[0m\u001b[1;36m0\u001b[0m\u001b[1;33m,\u001b[0m \u001b[0mxmax\u001b[0m\u001b[1;33m=\u001b[0m\u001b[0mlen\u001b[0m\u001b[1;33m(\u001b[0m\u001b[0mtrain_loss\u001b[0m\u001b[1;33m)\u001b[0m\u001b[1;33m,\u001b[0m \u001b[0mcolors\u001b[0m\u001b[1;33m=\u001b[0m\u001b[1;34m'r'\u001b[0m\u001b[1;33m,\u001b[0m \u001b[0mlinestyles\u001b[0m\u001b[1;33m=\u001b[0m\u001b[1;34m'--'\u001b[0m\u001b[1;33m)\u001b[0m\u001b[1;33m\u001b[0m\u001b[1;33m\u001b[0m\u001b[0m\n\u001b[0m\u001b[0;32m     10\u001b[0m \u001b[0mplt\u001b[0m\u001b[1;33m.\u001b[0m\u001b[0mlegend\u001b[0m\u001b[1;33m(\u001b[0m\u001b[1;33m)\u001b[0m\u001b[1;33m\u001b[0m\u001b[1;33m\u001b[0m\u001b[0m\n\u001b[0;32m     11\u001b[0m \u001b[0mplt\u001b[0m\u001b[1;33m.\u001b[0m\u001b[0mtitle\u001b[0m\u001b[1;33m(\u001b[0m\u001b[1;34m\"Loss\"\u001b[0m\u001b[1;33m)\u001b[0m\u001b[1;33m\u001b[0m\u001b[1;33m\u001b[0m\u001b[0m\n",
      "\u001b[1;31mNameError\u001b[0m: name 'loss_loadback' is not defined"
     ]
    },
    {
     "data": {
      "image/png": "[encoded data removed]",
      "text/plain": [
       "<Figure size 432x288 with 1 Axes>"
      ]
     },
     "metadata": {
      "needs_background": "light"
     },
     "output_type": "display_data"
    }
   ],
   "source": [
    "import matplotlib.pyplot as plt\n",
    "%matplotlib inline\n",
    "\"\"\"\n",
    "Code Here\n",
    "將結果繪出\n",
    "\"\"\"\n",
    "plt.plot(range(len(train_loss)), train_loss, label=\"train loss\")\n",
    "plt.plot(range(len(valid_loss)), valid_loss, label=\"valid loss\")\n",
    "plt.hlines(y=loss_loadback, xmin=0, xmax=len(train_loss), colors='r', linestyles='--')\n",
    "plt.legend()\n",
    "plt.title(\"Loss\")\n",
    "plt.show()\n",
    "\n",
    "plt.plot(range(len(train_acc)), train_acc, label=\"train accuracy\")\n",
    "plt.plot(range(len(valid_acc)), valid_acc, label=\"valid accuracy\")\n",
    "plt.hlines(y=acc_loadback, xmin=0, xmax=len(train_loss), colors='r', linestyles='--')\n",
    "plt.legend()\n",
    "plt.title(\"Accuracy\")\n",
    "plt.show()"
   ]
  }
 ],
 "metadata": {
  "kernelspec": {
   "display_name": "Python 3",
   "language": "python",
   "name": "python3"
  },
  "language_info": {
   "codemirror_mode": {
    "name": "ipython",
    "version": 3
   },
   "file_extension": ".py",
   "mimetype": "text/x-python",
   "name": "python",
   "nbconvert_exporter": "python",
   "pygments_lexer": "ipython3",
   "version": "3.7.7"
  }
 },
 "nbformat": 4,
 "nbformat_minor": 2
}
