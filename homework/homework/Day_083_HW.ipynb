{
 "cells": [
  {
   "cell_type": "markdown",
   "metadata": {},
   "source": [
    "## Work\n",
    "1. 試比較有 BN 在 Batch_size = 2, 16, 32, 128, 256 下的差異\n",
    "2. 請嘗試將 BN 放在 Activation 之前，並比較訓練結果\n",
    "3. 請於 BN 放在 Input Layer 後，並比較結果"
   ]
  },
  {
   "cell_type": "code",
   "execution_count": 5,
   "metadata": {},
   "outputs": [],
   "source": [
    "import os\n",
    "import keras\n",
    "import itertools\n",
    "# Disable GPU\n",
    "os.environ[\"CUDA_VISIBLE_DEVICES\"] = \"\""
   ]
  },
  {
   "cell_type": "code",
   "execution_count": 6,
   "metadata": {},
   "outputs": [],
   "source": [
    "train, test = keras.datasets.cifar10.load_data()"
   ]
  },
  {
   "cell_type": "code",
   "execution_count": 7,
   "metadata": {},
   "outputs": [],
   "source": [
    "## 資料前處理\n",
    "def preproc_x(x, flatten=True):\n",
    "    x = x / 255.\n",
    "    if flatten:\n",
    "        x = x.reshape((len(x), -1))\n",
    "    return x\n",
    "\n",
    "def preproc_y(y, num_classes=10):\n",
    "    if y.shape[-1] == 1:\n",
    "        y = keras.utils.to_categorical(y, num_classes)\n",
    "    return y    "
   ]
  },
  {
   "cell_type": "code",
   "execution_count": 8,
   "metadata": {},
   "outputs": [],
   "source": [
    "x_train, y_train = train\n",
    "x_test, y_test = test\n",
    "\n",
    "# Preproc the inputs\n",
    "x_train = preproc_x(x_train)\n",
    "x_test = preproc_x(x_test)\n",
    "\n",
    "# Preprc the outputs\n",
    "y_train = preproc_y(y_train)\n",
    "y_test = preproc_y(y_test)"
   ]
  },
  {
   "cell_type": "code",
   "execution_count": 9,
   "metadata": {},
   "outputs": [],
   "source": [
    "from keras.layers import BatchNormalization\n",
    "\"\"\"\n",
    "Code Here\n",
    "建立你的神經網路\n",
    "\"\"\"\n",
    "def build_mlp(input_shape, output_units=10, num_neurons=[512, 256, 128]):\n",
    "    input_layer = keras.layers.Input(input_shape)\n",
    "    \n",
    "    for i, n_units in enumerate(num_neurons):\n",
    "        if i == 0: # 0 -> 512 \n",
    "            x = BatchNormalization()(input_layer)\n",
    "            x = keras.layers.Dense(units=n_units, \n",
    "                                   activation=\"relu\", \n",
    "                                   name=\"hidden_layer\"+str(i+1))(x)\n",
    "        else: # 1-> 256, 2 -> 128\n",
    "            x = BatchNormalization()(x)\n",
    "            x = keras.layers.Dense(units=n_units, \n",
    "                                   activation=\"relu\", \n",
    "                                   name=\"hidden_layer\"+str(i+1))(x)\n",
    "    \n",
    "    out = keras.layers.Dense(units=output_units, activation=\"softmax\", name=\"output\")(x)\n",
    "    \n",
    "    model = keras.models.Model(inputs=[input_layer], outputs=[out])\n",
    "    return model"
   ]
  },
  {
   "cell_type": "code",
   "execution_count": 10,
   "metadata": {},
   "outputs": [],
   "source": [
    "\"\"\"\n",
    "Code Here\n",
    "設定超參數\n",
    "\"\"\"\n",
    "LEARNING_RATE = 1e-3\n",
    "EPOCHS = 50\n",
    "BATCH_SIZE = 1024\n",
    "MOMENTUM = 0.95"
   ]
  },
  {
   "cell_type": "code",
   "execution_count": 11,
   "metadata": {
    "scrolled": true
   },
   "outputs": [
    {
     "name": "stdout",
     "output_type": "stream",
     "text": [
      "Model: \"model_1\"\n",
      "_________________________________________________________________\n",
      "Layer (type)                 Output Shape              Param #   \n",
      "=================================================================\n",
      "input_1 (InputLayer)         (None, 3072)              0         \n",
      "_________________________________________________________________\n",
      "batch_normalization_1 (Batch (None, 3072)              12288     \n",
      "_________________________________________________________________\n",
      "hidden_layer1 (Dense)        (None, 512)               1573376   \n",
      "_________________________________________________________________\n",
      "batch_normalization_2 (Batch (None, 512)               2048      \n",
      "_________________________________________________________________\n",
      "hidden_layer2 (Dense)        (None, 256)               131328    \n",
      "_________________________________________________________________\n",
      "batch_normalization_3 (Batch (None, 256)               1024      \n",
      "_________________________________________________________________\n",
      "hidden_layer3 (Dense)        (None, 128)               32896     \n",
      "_________________________________________________________________\n",
      "output (Dense)               (None, 10)                1290      \n",
      "=================================================================\n",
      "Total params: 1,754,250\n",
      "Trainable params: 1,746,570\n",
      "Non-trainable params: 7,680\n",
      "_________________________________________________________________\n",
      "Train on 50000 samples, validate on 10000 samples\n",
      "Epoch 1/50\n",
      "50000/50000 [==============================] - 18s 358us/step - loss: 2.1931 - accuracy: 0.2412 - val_loss: 2.1265 - val_accuracy: 0.2130\n",
      "Epoch 2/50\n",
      "50000/50000 [==============================] - 17s 339us/step - loss: 1.7574 - accuracy: 0.3819 - val_loss: 1.9753 - val_accuracy: 0.3002\n",
      "Epoch 3/50\n",
      "50000/50000 [==============================] - 16s 324us/step - loss: 1.6336 - accuracy: 0.4262 - val_loss: 1.8637 - val_accuracy: 0.3433\n",
      "Epoch 4/50\n",
      "50000/50000 [==============================] - 16s 319us/step - loss: 1.5590 - accuracy: 0.4547 - val_loss: 1.7668 - val_accuracy: 0.3762\n",
      "Epoch 5/50\n",
      "50000/50000 [==============================] - 16s 319us/step - loss: 1.5025 - accuracy: 0.4748 - val_loss: 1.6799 - val_accuracy: 0.4042\n",
      "Epoch 6/50\n",
      "50000/50000 [==============================] - 16s 320us/step - loss: 1.4545 - accuracy: 0.4930 - val_loss: 1.6043 - val_accuracy: 0.4305\n",
      "Epoch 7/50\n",
      "50000/50000 [==============================] - 17s 343us/step - loss: 1.4147 - accuracy: 0.5074 - val_loss: 1.5508 - val_accuracy: 0.4511\n",
      "Epoch 8/50\n",
      "50000/50000 [==============================] - 16s 317us/step - loss: 1.3776 - accuracy: 0.5213 - val_loss: 1.5136 - val_accuracy: 0.4639\n",
      "Epoch 9/50\n",
      "50000/50000 [==============================] - 16s 329us/step - loss: 1.3432 - accuracy: 0.5347 - val_loss: 1.4875 - val_accuracy: 0.4730\n",
      "Epoch 10/50\n",
      "50000/50000 [==============================] - 16s 318us/step - loss: 1.3127 - accuracy: 0.5457 - val_loss: 1.4705 - val_accuracy: 0.4814\n",
      "Epoch 11/50\n",
      "50000/50000 [==============================] - 16s 328us/step - loss: 1.2827 - accuracy: 0.5571 - val_loss: 1.4567 - val_accuracy: 0.4860\n",
      "Epoch 12/50\n",
      "50000/50000 [==============================] - 14s 279us/step - loss: 1.2543 - accuracy: 0.5677 - val_loss: 1.4437 - val_accuracy: 0.4881\n",
      "Epoch 13/50\n",
      "50000/50000 [==============================] - 13s 255us/step - loss: 1.2282 - accuracy: 0.5760 - val_loss: 1.4367 - val_accuracy: 0.4920\n",
      "Epoch 14/50\n",
      "50000/50000 [==============================] - 13s 258us/step - loss: 1.2017 - accuracy: 0.5851 - val_loss: 1.4285 - val_accuracy: 0.4937\n",
      "Epoch 15/50\n",
      "50000/50000 [==============================] - 13s 257us/step - loss: 1.1769 - accuracy: 0.5944 - val_loss: 1.4242 - val_accuracy: 0.4927\n",
      "Epoch 16/50\n",
      "50000/50000 [==============================] - 13s 254us/step - loss: 1.1532 - accuracy: 0.6053 - val_loss: 1.4155 - val_accuracy: 0.4986\n",
      "Epoch 17/50\n",
      "50000/50000 [==============================] - 13s 259us/step - loss: 1.1289 - accuracy: 0.6151 - val_loss: 1.4133 - val_accuracy: 0.4960\n",
      "Epoch 18/50\n",
      "50000/50000 [==============================] - 13s 251us/step - loss: 1.1062 - accuracy: 0.6224 - val_loss: 1.4081 - val_accuracy: 0.4974\n",
      "Epoch 19/50\n",
      "50000/50000 [==============================] - 12s 247us/step - loss: 1.0820 - accuracy: 0.6324 - val_loss: 1.4046 - val_accuracy: 0.4997\n",
      "Epoch 20/50\n",
      "50000/50000 [==============================] - 11s 228us/step - loss: 1.0597 - accuracy: 0.6401 - val_loss: 1.4027 - val_accuracy: 0.5027\n",
      "Epoch 21/50\n",
      "50000/50000 [==============================] - 11s 228us/step - loss: 1.0379 - accuracy: 0.6497 - val_loss: 1.4000 - val_accuracy: 0.5029\n",
      "Epoch 22/50\n",
      "50000/50000 [==============================] - 12s 235us/step - loss: 1.0152 - accuracy: 0.6582 - val_loss: 1.3970 - val_accuracy: 0.5055\n",
      "Epoch 23/50\n",
      "50000/50000 [==============================] - 11s 229us/step - loss: 0.9931 - accuracy: 0.6691 - val_loss: 1.3971 - val_accuracy: 0.5077\n",
      "Epoch 24/50\n",
      "50000/50000 [==============================] - 11s 228us/step - loss: 0.9718 - accuracy: 0.6762 - val_loss: 1.3974 - val_accuracy: 0.5094\n",
      "Epoch 25/50\n",
      "50000/50000 [==============================] - 11s 230us/step - loss: 0.9503 - accuracy: 0.6846 - val_loss: 1.3960 - val_accuracy: 0.5106\n",
      "Epoch 26/50\n",
      "50000/50000 [==============================] - 11s 228us/step - loss: 0.9292 - accuracy: 0.6953 - val_loss: 1.3954 - val_accuracy: 0.5110\n",
      "Epoch 27/50\n",
      "50000/50000 [==============================] - 12s 231us/step - loss: 0.9082 - accuracy: 0.7023 - val_loss: 1.3990 - val_accuracy: 0.5110\n",
      "Epoch 28/50\n",
      "50000/50000 [==============================] - 12s 232us/step - loss: 0.8871 - accuracy: 0.7098 - val_loss: 1.4021 - val_accuracy: 0.5106\n",
      "Epoch 29/50\n",
      "50000/50000 [==============================] - 12s 230us/step - loss: 0.8658 - accuracy: 0.7188 - val_loss: 1.4028 - val_accuracy: 0.5105\n",
      "Epoch 30/50\n",
      "50000/50000 [==============================] - 11s 227us/step - loss: 0.8450 - accuracy: 0.7261 - val_loss: 1.4035 - val_accuracy: 0.5123\n",
      "Epoch 31/50\n",
      "50000/50000 [==============================] - 11s 229us/step - loss: 0.8246 - accuracy: 0.7341 - val_loss: 1.4082 - val_accuracy: 0.5123\n",
      "Epoch 32/50\n",
      "50000/50000 [==============================] - 12s 234us/step - loss: 0.8043 - accuracy: 0.7411 - val_loss: 1.4114 - val_accuracy: 0.5116\n",
      "Epoch 33/50\n",
      "50000/50000 [==============================] - 12s 230us/step - loss: 0.7844 - accuracy: 0.7511 - val_loss: 1.4157 - val_accuracy: 0.5111\n",
      "Epoch 34/50\n",
      "50000/50000 [==============================] - 11s 228us/step - loss: 0.7635 - accuracy: 0.7589 - val_loss: 1.4227 - val_accuracy: 0.5103\n",
      "Epoch 35/50\n",
      "50000/50000 [==============================] - 11s 227us/step - loss: 0.7429 - accuracy: 0.7691 - val_loss: 1.4252 - val_accuracy: 0.5080\n",
      "Epoch 36/50\n",
      "50000/50000 [==============================] - 12s 230us/step - loss: 0.7242 - accuracy: 0.7754 - val_loss: 1.4292 - val_accuracy: 0.5107\n",
      "Epoch 37/50\n",
      "50000/50000 [==============================] - 11s 228us/step - loss: 0.7036 - accuracy: 0.7837 - val_loss: 1.4343 - val_accuracy: 0.5078\n",
      "Epoch 38/50\n",
      "50000/50000 [==============================] - 11s 229us/step - loss: 0.6854 - accuracy: 0.7895 - val_loss: 1.4422 - val_accuracy: 0.5099\n",
      "Epoch 39/50\n",
      "50000/50000 [==============================] - 11s 227us/step - loss: 0.6642 - accuracy: 0.7985 - val_loss: 1.4517 - val_accuracy: 0.5091\n",
      "Epoch 40/50\n",
      "50000/50000 [==============================] - 11s 227us/step - loss: 0.6455 - accuracy: 0.8064 - val_loss: 1.4598 - val_accuracy: 0.5101\n",
      "Epoch 41/50\n",
      "50000/50000 [==============================] - 11s 228us/step - loss: 0.6249 - accuracy: 0.8155 - val_loss: 1.4637 - val_accuracy: 0.5062\n",
      "Epoch 42/50\n",
      "50000/50000 [==============================] - 11s 228us/step - loss: 0.6073 - accuracy: 0.8217 - val_loss: 1.4700 - val_accuracy: 0.5083\n",
      "Epoch 43/50\n",
      "50000/50000 [==============================] - 12s 231us/step - loss: 0.5876 - accuracy: 0.8290 - val_loss: 1.4791 - val_accuracy: 0.5047\n",
      "Epoch 44/50\n",
      "50000/50000 [==============================] - 11s 229us/step - loss: 0.5695 - accuracy: 0.8367 - val_loss: 1.4915 - val_accuracy: 0.5060\n",
      "Epoch 45/50\n",
      "50000/50000 [==============================] - 12s 243us/step - loss: 0.5509 - accuracy: 0.8433 - val_loss: 1.5018 - val_accuracy: 0.5076\n"
     ]
    },
    {
     "name": "stdout",
     "output_type": "stream",
     "text": [
      "Epoch 46/50\n",
      "50000/50000 [==============================] - 13s 255us/step - loss: 0.5334 - accuracy: 0.8516 - val_loss: 1.5089 - val_accuracy: 0.5066\n",
      "Epoch 47/50\n",
      "50000/50000 [==============================] - 13s 253us/step - loss: 0.5150 - accuracy: 0.8591 - val_loss: 1.5194 - val_accuracy: 0.5058\n",
      "Epoch 48/50\n",
      "50000/50000 [==============================] - 13s 255us/step - loss: 0.4973 - accuracy: 0.8669 - val_loss: 1.5291 - val_accuracy: 0.5061\n",
      "Epoch 49/50\n",
      "50000/50000 [==============================] - 13s 250us/step - loss: 0.4807 - accuracy: 0.8727 - val_loss: 1.5389 - val_accuracy: 0.5079\n",
      "Epoch 50/50\n",
      "50000/50000 [==============================] - 13s 258us/step - loss: 0.4635 - accuracy: 0.8793 - val_loss: 1.5513 - val_accuracy: 0.5100\n"
     ]
    }
   ],
   "source": [
    "\"\"\"\n",
    "Code Here\n",
    "撰寫你的訓練流程並將結果用 dictionary 紀錄\n",
    "\"\"\"\n",
    "model = build_mlp(input_shape=x_train.shape[1:]) # Call Function\n",
    "model.summary()\n",
    "optimizer = keras.optimizers.SGD(lr=LEARNING_RATE, nesterov=True, momentum=MOMENTUM)\n",
    "model.compile(loss=\"categorical_crossentropy\", metrics=[\"accuracy\"], optimizer=optimizer)\n",
    "\n",
    "model.fit(x_train, y_train, \n",
    "          epochs=EPOCHS, \n",
    "          batch_size=BATCH_SIZE, \n",
    "          validation_data=(x_test, y_test), \n",
    "          shuffle=True)\n",
    "\n",
    "# Collect results\n",
    "train_loss = model.history.history[\"loss\"]\n",
    "valid_loss = model.history.history[\"val_loss\"]\n",
    "train_acc = model.history.history[\"accuracy\"]\n",
    "valid_acc = model.history.history[\"val_accuracy\"]"
   ]
  },
  {
   "cell_type": "code",
   "execution_count": 12,
   "metadata": {},
   "outputs": [
    {
     "data": {
      "image/png": "[encoded data removed]",
      "text/plain": [
       "<Figure size 432x288 with 1 Axes>"
      ]
     },
     "metadata": {
      "needs_background": "light"
     },
     "output_type": "display_data"
    },
    {
     "data": {
      "image/png": "[encoded data removed]",
      "text/plain": [
       "<Figure size 432x288 with 1 Axes>"
      ]
     },
     "metadata": {
      "needs_background": "light"
     },
     "output_type": "display_data"
    }
   ],
   "source": [
    "import matplotlib.pyplot as plt\n",
    "%matplotlib inline\n",
    "\"\"\"\n",
    "Code Here\n",
    "將結果繪出\n",
    "\"\"\"\n",
    "plt.plot(range(len(train_loss)), train_loss, label=\"train loss\")\n",
    "plt.plot(range(len(valid_loss)), valid_loss, label=\"valid loss\")\n",
    "plt.legend()\n",
    "plt.title(\"Loss\")\n",
    "plt.show()\n",
    "\n",
    "plt.plot(range(len(train_acc)), train_acc, label=\"train accuracy\")\n",
    "plt.plot(range(len(valid_acc)), valid_acc, label=\"valid accuracy\")\n",
    "plt.legend()\n",
    "plt.title(\"Accuracy\")\n",
    "plt.show()"
   ]
  }
 ],
 "metadata": {
  "kernelspec": {
   "display_name": "Python 3",
   "language": "python",
   "name": "python3"
  },
  "language_info": {
   "codemirror_mode": {
    "name": "ipython",
    "version": 3
   },
   "file_extension": ".py",
   "mimetype": "text/x-python",
   "name": "python",
   "nbconvert_exporter": "python",
   "pygments_lexer": "ipython3",
   "version": "3.7.7"
  }
 },
 "nbformat": 4,
 "nbformat_minor": 2
}
