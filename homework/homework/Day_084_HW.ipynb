{
 "cells": [
  {
   "cell_type": "markdown",
   "metadata": {},
   "source": [
    "## Work\n",
    "### 請結合前面的知識與程式碼，比較不同的 regularization 的組合對訓練的結果與影響：如 dropout, regularizers, batch-normalization 等"
   ]
  },
  {
   "cell_type": "code",
   "execution_count": 2,
   "metadata": {},
   "outputs": [],
   "source": [
    "import os\n",
    "import keras\n",
    "import itertools\n",
    "# Disable GPU\n",
    "os.environ[\"CUDA_VISIBLE_DEVICES\"] = \"0\""
   ]
  },
  {
   "cell_type": "code",
   "execution_count": 3,
   "metadata": {},
   "outputs": [],
   "source": [
    "train, test = keras.datasets.cifar10.load_data()"
   ]
  },
  {
   "cell_type": "code",
   "execution_count": 4,
   "metadata": {},
   "outputs": [],
   "source": [
    "## 資料前處理\n",
    "def preproc_x(x, flatten=True):\n",
    "    x = x / 255.\n",
    "    if flatten:\n",
    "        x = x.reshape((len(x), -1))\n",
    "    return x\n",
    "\n",
    "def preproc_y(y, num_classes=10):\n",
    "    if y.shape[-1] == 1:\n",
    "        y = keras.utils.to_categorical(y, num_classes)\n",
    "    return y    "
   ]
  },
  {
   "cell_type": "code",
   "execution_count": 5,
   "metadata": {},
   "outputs": [],
   "source": [
    "x_train, y_train = train\n",
    "x_test, y_test = test\n",
    "\n",
    "# Preproc the inputs\n",
    "x_train = preproc_x(x_train)\n",
    "x_test = preproc_x(x_test)\n",
    "\n",
    "# Preprc the outputs\n",
    "y_train = preproc_y(y_train)\n",
    "y_test = preproc_y(y_test)"
   ]
  },
  {
   "cell_type": "code",
   "execution_count": 10,
   "metadata": {},
   "outputs": [],
   "source": [
    "from keras.layers import BatchNormalization, Dropout\n",
    "from keras.regularizers import l1, l2, l1_l2\n",
    "\n",
    "def build_mlp(input_shape, output_units=10, num_neurons=[512, 256, 128], drp_ratio=0.25, l1_l2_ratio=1e-4):\n",
    "    input_layer = keras.layers.Input(input_shape)\n",
    "    \n",
    "    for i, n_units in enumerate(num_neurons):\n",
    "        if i == 0:\n",
    "            x = keras.layers.Dense(units=n_units,\n",
    "                                   activation=\"relu\",\n",
    "                                   name=\"hidden_layer\"+str(i+1),\n",
    "                                   kernel_regularizer=l1_l2(l1_l2_ratio))(input_layer)\n",
    "            x = BatchNormalization()(x)\n",
    "            x = Dropout(drp_ratio)(x)\n",
    "        else:\n",
    "            x = keras.layers.Dense(units=n_units,\n",
    "                                   activation=\"relu\",\n",
    "                                   name=\"hidden_layer\"+str(i+1),\n",
    "                                   kernel_regularizer=l1_l2(l1_l2_ratio))(x)\n",
    "            x = BatchNormalization()(x)\n",
    "            x = Dropout(drp_ratio)(x)\n",
    "    out = keras.layers.Dense(units=output_units, activation=\"softmax\", name=\"output\")(x)\n",
    "    model = keras.models.Model(inputs=[input_layer], outputs=[out])\n",
    "    return model"
   ]
  },
  {
   "cell_type": "code",
   "execution_count": 8,
   "metadata": {},
   "outputs": [],
   "source": [
    "LEARNING_RATE = 1e-3\n",
    "EPOCHS = 50\n",
    "BATCH_SIZE = 256\n",
    "MOMENTUM = 0.95"
   ]
  },
  {
   "cell_type": "code",
   "execution_count": 11,
   "metadata": {
    "scrolled": true
   },
   "outputs": [
    {
     "name": "stdout",
     "output_type": "stream",
     "text": [
      "Model: \"model_1\"\n",
      "_________________________________________________________________\n",
      "Layer (type)                 Output Shape              Param #   \n",
      "=================================================================\n",
      "input_2 (InputLayer)         (None, 3072)              0         \n",
      "_________________________________________________________________\n",
      "hidden_layer1 (Dense)        (None, 512)               1573376   \n",
      "_________________________________________________________________\n",
      "batch_normalization_4 (Batch (None, 512)               2048      \n",
      "_________________________________________________________________\n",
      "dropout_4 (Dropout)          (None, 512)               0         \n",
      "_________________________________________________________________\n",
      "hidden_layer2 (Dense)        (None, 256)               131328    \n",
      "_________________________________________________________________\n",
      "batch_normalization_5 (Batch (None, 256)               1024      \n",
      "_________________________________________________________________\n",
      "dropout_5 (Dropout)          (None, 256)               0         \n",
      "_________________________________________________________________\n",
      "hidden_layer3 (Dense)        (None, 128)               32896     \n",
      "_________________________________________________________________\n",
      "batch_normalization_6 (Batch (None, 128)               512       \n",
      "_________________________________________________________________\n",
      "dropout_6 (Dropout)          (None, 128)               0         \n",
      "_________________________________________________________________\n",
      "output (Dense)               (None, 10)                1290      \n",
      "=================================================================\n",
      "Total params: 1,742,474\n",
      "Trainable params: 1,740,682\n",
      "Non-trainable params: 1,792\n",
      "_________________________________________________________________\n",
      "Train on 50000 samples, validate on 10000 samples\n",
      "Epoch 1/50\n",
      "50000/50000 [==============================] - 21s 422us/step - loss: 19.0306 - accuracy: 0.2664 - val_loss: 17.2635 - val_accuracy: 0.3668\n",
      "Epoch 2/50\n",
      "50000/50000 [==============================] - 19s 389us/step - loss: 16.1776 - accuracy: 0.3469 - val_loss: 14.8807 - val_accuracy: 0.3852\n",
      "Epoch 3/50\n",
      "50000/50000 [==============================] - 17s 345us/step - loss: 13.9185 - accuracy: 0.3767 - val_loss: 12.8398 - val_accuracy: 0.4134\n",
      "Epoch 4/50\n",
      "50000/50000 [==============================] - 16s 330us/step - loss: 12.0181 - accuracy: 0.4000 - val_loss: 11.1014 - val_accuracy: 0.4332\n",
      "Epoch 5/50\n",
      "50000/50000 [==============================] - 18s 350us/step - loss: 10.4102 - accuracy: 0.4165 - val_loss: 9.6674 - val_accuracy: 0.4272\n",
      "Epoch 6/50\n",
      "50000/50000 [==============================] - 16s 329us/step - loss: 9.0391 - accuracy: 0.4301 - val_loss: 8.4762 - val_accuracy: 0.4101\n",
      "Epoch 7/50\n",
      "50000/50000 [==============================] - 18s 354us/step - loss: 7.8832 - accuracy: 0.4388 - val_loss: 7.3643 - val_accuracy: 0.4383\n",
      "Epoch 8/50\n",
      "50000/50000 [==============================] - 16s 314us/step - loss: 6.9060 - accuracy: 0.4436 - val_loss: 6.5051 - val_accuracy: 0.4231\n",
      "Epoch 9/50\n",
      "50000/50000 [==============================] - 16s 311us/step - loss: 6.0679 - accuracy: 0.4490 - val_loss: 5.7487 - val_accuracy: 0.4268\n",
      "Epoch 10/50\n",
      "50000/50000 [==============================] - 16s 327us/step - loss: 5.3634 - accuracy: 0.4491 - val_loss: 5.0679 - val_accuracy: 0.4454\n",
      "Epoch 11/50\n",
      "50000/50000 [==============================] - 15s 298us/step - loss: 4.7574 - accuracy: 0.4557 - val_loss: 4.5101 - val_accuracy: 0.4530\n",
      "Epoch 12/50\n",
      "50000/50000 [==============================] - 15s 304us/step - loss: 4.2423 - accuracy: 0.4599 - val_loss: 4.1683 - val_accuracy: 0.3992\n",
      "Epoch 13/50\n",
      "50000/50000 [==============================] - 14s 276us/step - loss: 3.8140 - accuracy: 0.4577 - val_loss: 3.8445 - val_accuracy: 0.3862\n",
      "Epoch 14/50\n",
      "50000/50000 [==============================] - 14s 283us/step - loss: 3.4411 - accuracy: 0.4617 - val_loss: 3.4692 - val_accuracy: 0.3919\n",
      "Epoch 15/50\n",
      "50000/50000 [==============================] - 17s 331us/step - loss: 3.1245 - accuracy: 0.4610 - val_loss: 3.2582 - val_accuracy: 0.3544\n",
      "Epoch 16/50\n",
      "50000/50000 [==============================] - 15s 301us/step - loss: 2.8749 - accuracy: 0.4609 - val_loss: 3.2044 - val_accuracy: 0.3151\n",
      "Epoch 17/50\n",
      "50000/50000 [==============================] - 15s 302us/step - loss: 2.6625 - accuracy: 0.4580 - val_loss: 2.8080 - val_accuracy: 0.3819\n",
      "Epoch 18/50\n",
      "50000/50000 [==============================] - 15s 299us/step - loss: 2.4560 - accuracy: 0.4663 - val_loss: 2.5252 - val_accuracy: 0.4116\n",
      "Epoch 19/50\n",
      "50000/50000 [==============================] - 15s 297us/step - loss: 2.3166 - accuracy: 0.4605 - val_loss: 2.3219 - val_accuracy: 0.4317\n",
      "Epoch 20/50\n",
      "50000/50000 [==============================] - 15s 290us/step - loss: 2.1699 - accuracy: 0.4699 - val_loss: 2.3610 - val_accuracy: 0.3922\n",
      "Epoch 21/50\n",
      "50000/50000 [==============================] - 13s 267us/step - loss: 2.0598 - accuracy: 0.4701 - val_loss: 2.2895 - val_accuracy: 0.3460\n",
      "Epoch 22/50\n",
      "50000/50000 [==============================] - 13s 264us/step - loss: 1.9694 - accuracy: 0.4696 - val_loss: 2.2433 - val_accuracy: 0.3601\n",
      "Epoch 23/50\n",
      "50000/50000 [==============================] - 13s 265us/step - loss: 1.8955 - accuracy: 0.4736 - val_loss: 1.9991 - val_accuracy: 0.4227\n",
      "Epoch 24/50\n",
      "50000/50000 [==============================] - 13s 267us/step - loss: 1.8503 - accuracy: 0.4681 - val_loss: 2.1364 - val_accuracy: 0.3543\n",
      "Epoch 25/50\n",
      "50000/50000 [==============================] - 13s 266us/step - loss: 1.7916 - accuracy: 0.4748 - val_loss: 1.9283 - val_accuracy: 0.4259\n",
      "Epoch 26/50\n",
      "50000/50000 [==============================] - 14s 270us/step - loss: 1.7725 - accuracy: 0.4705 - val_loss: 2.0248 - val_accuracy: 0.3653\n",
      "Epoch 27/50\n",
      "50000/50000 [==============================] - 13s 266us/step - loss: 1.7254 - accuracy: 0.4765 - val_loss: 1.8508 - val_accuracy: 0.4413\n",
      "Epoch 28/50\n",
      "50000/50000 [==============================] - 13s 266us/step - loss: 1.6999 - accuracy: 0.4801 - val_loss: 1.7757 - val_accuracy: 0.4451\n",
      "Epoch 29/50\n",
      "50000/50000 [==============================] - 14s 276us/step - loss: 1.6841 - accuracy: 0.4825 - val_loss: 1.8607 - val_accuracy: 0.4091\n",
      "Epoch 30/50\n",
      "50000/50000 [==============================] - 13s 268us/step - loss: 1.6980 - accuracy: 0.4800 - val_loss: 1.8944 - val_accuracy: 0.4166\n",
      "Epoch 31/50\n",
      "50000/50000 [==============================] - 13s 264us/step - loss: 1.7007 - accuracy: 0.4743 - val_loss: 1.8425 - val_accuracy: 0.4159\n",
      "Epoch 32/50\n",
      "50000/50000 [==============================] - 13s 264us/step - loss: 1.6911 - accuracy: 0.4770 - val_loss: 1.9068 - val_accuracy: 0.3983\n",
      "Epoch 33/50\n",
      "50000/50000 [==============================] - 14s 274us/step - loss: 1.6827 - accuracy: 0.4791 - val_loss: 1.9357 - val_accuracy: 0.3824\n",
      "Epoch 34/50\n",
      "50000/50000 [==============================] - 13s 264us/step - loss: 1.6824 - accuracy: 0.4762 - val_loss: 1.7172 - val_accuracy: 0.4639\n",
      "Epoch 35/50\n",
      "50000/50000 [==============================] - 13s 269us/step - loss: 1.6759 - accuracy: 0.4784 - val_loss: 1.7018 - val_accuracy: 0.4749\n",
      "Epoch 36/50\n",
      "50000/50000 [==============================] - 13s 268us/step - loss: 1.6683 - accuracy: 0.4852 - val_loss: 1.7872 - val_accuracy: 0.4297\n",
      "Epoch 37/50\n",
      "50000/50000 [==============================] - 13s 267us/step - loss: 1.6623 - accuracy: 0.4838 - val_loss: 1.7738 - val_accuracy: 0.4392\n",
      "Epoch 38/50\n",
      "50000/50000 [==============================] - 13s 269us/step - loss: 1.6531 - accuracy: 0.4883 - val_loss: 2.0492 - val_accuracy: 0.3368\n",
      "Epoch 39/50\n",
      "50000/50000 [==============================] - 14s 272us/step - loss: 1.6667 - accuracy: 0.4863 - val_loss: 1.9034 - val_accuracy: 0.3880\n",
      "Epoch 40/50\n",
      "50000/50000 [==============================] - 13s 267us/step - loss: 1.6899 - accuracy: 0.4787 - val_loss: 1.9422 - val_accuracy: 0.3714\n",
      "Epoch 41/50\n",
      "50000/50000 [==============================] - 13s 265us/step - loss: 1.6781 - accuracy: 0.4828 - val_loss: 1.9362 - val_accuracy: 0.3856\n",
      "Epoch 42/50\n",
      "50000/50000 [==============================] - 14s 277us/step - loss: 1.6681 - accuracy: 0.4819 - val_loss: 1.8868 - val_accuracy: 0.4144\n",
      "Epoch 43/50\n"
     ]
    },
    {
     "name": "stdout",
     "output_type": "stream",
     "text": [
      "50000/50000 [==============================] - 15s 305us/step - loss: 1.6639 - accuracy: 0.4864 - val_loss: 2.0110 - val_accuracy: 0.3470\n",
      "Epoch 44/50\n",
      "50000/50000 [==============================] - 16s 314us/step - loss: 1.6686 - accuracy: 0.4836 - val_loss: 1.9544 - val_accuracy: 0.3794\n",
      "Epoch 45/50\n",
      "50000/50000 [==============================] - 15s 300us/step - loss: 1.6599 - accuracy: 0.4868 - val_loss: 1.7613 - val_accuracy: 0.4471\n",
      "Epoch 46/50\n",
      "50000/50000 [==============================] - 15s 294us/step - loss: 1.6621 - accuracy: 0.4842 - val_loss: 1.8768 - val_accuracy: 0.4169\n",
      "Epoch 47/50\n",
      "50000/50000 [==============================] - 15s 294us/step - loss: 1.6574 - accuracy: 0.4848 - val_loss: 1.8987 - val_accuracy: 0.4151\n",
      "Epoch 48/50\n",
      "50000/50000 [==============================] - 15s 303us/step - loss: 1.6590 - accuracy: 0.4890 - val_loss: 1.9754 - val_accuracy: 0.3733\n",
      "Epoch 49/50\n",
      "50000/50000 [==============================] - 13s 269us/step - loss: 1.6620 - accuracy: 0.4836 - val_loss: 1.8378 - val_accuracy: 0.4202\n",
      "Epoch 50/50\n",
      "50000/50000 [==============================] - 13s 262us/step - loss: 1.6557 - accuracy: 0.4866 - val_loss: 1.8173 - val_accuracy: 0.4298\n"
     ]
    }
   ],
   "source": [
    "model = build_mlp(input_shape=x_train.shape[1:])\n",
    "model.summary()\n",
    "optimizer = keras.optimizers.SGD(lr=LEARNING_RATE, nesterov=True, momentum=MOMENTUM)\n",
    "model.compile(loss=\"categorical_crossentropy\", metrics=[\"accuracy\"], optimizer=optimizer)\n",
    "\n",
    "model.fit(x_train, y_train, \n",
    "          epochs=EPOCHS, \n",
    "          batch_size=BATCH_SIZE, \n",
    "          validation_data=(x_test, y_test), \n",
    "          shuffle=True)\n",
    "\n",
    "# Collect results\n",
    "train_loss = model.history.history[\"loss\"]\n",
    "valid_loss = model.history.history[\"val_loss\"]\n",
    "train_acc = model.history.history[\"accuracy\"]\n",
    "valid_acc = model.history.history[\"val_accuracy\"]"
   ]
  },
  {
   "cell_type": "code",
   "execution_count": 12,
   "metadata": {},
   "outputs": [
    {
     "data": {
      "image/png": "[encoded data removed]",
      "text/plain": [
       "<Figure size 432x288 with 1 Axes>"
      ]
     },
     "metadata": {
      "needs_background": "light"
     },
     "output_type": "display_data"
    },
    {
     "data": {
      "image/png": "[encoded data removed]",
      "text/plain": [
       "<Figure size 432x288 with 1 Axes>"
      ]
     },
     "metadata": {
      "needs_background": "light"
     },
     "output_type": "display_data"
    }
   ],
   "source": [
    "import matplotlib.pyplot as plt\n",
    "%matplotlib inline\n",
    "\n",
    "plt.plot(range(len(train_loss)), train_loss, label=\"train loss\")\n",
    "plt.plot(range(len(valid_loss)), valid_loss, label=\"valid loss\")\n",
    "plt.legend()\n",
    "plt.title(\"Loss\")\n",
    "plt.show()\n",
    "\n",
    "plt.plot(range(len(train_acc)), train_acc, label=\"train accuracy\")\n",
    "plt.plot(range(len(valid_acc)), valid_acc, label=\"valid accuracy\")\n",
    "plt.legend()\n",
    "plt.title(\"Accuracy\")\n",
    "plt.show()"
   ]
  }
 ],
 "metadata": {
  "kernelspec": {
   "display_name": "Python 3",
   "language": "python",
   "name": "python3"
  },
  "language_info": {
   "codemirror_mode": {
    "name": "ipython",
    "version": 3
   },
   "file_extension": ".py",
   "mimetype": "text/x-python",
   "name": "python",
   "nbconvert_exporter": "python",
   "pygments_lexer": "ipython3",
   "version": "3.7.7"
  }
 },
 "nbformat": 4,
 "nbformat_minor": 2
}
