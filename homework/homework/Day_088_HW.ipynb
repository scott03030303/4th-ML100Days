{
 "cells": [
  {
   "cell_type": "markdown",
   "metadata": {},
   "source": [
    "## Work\n",
    "1. 請嘗試寫一個 callback 用來記錄各類別在訓練過程中，對驗證集的 True Positive 與 True Negative"
   ]
  },
  {
   "cell_type": "code",
   "execution_count": 1,
   "metadata": {},
   "outputs": [
    {
     "name": "stderr",
     "output_type": "stream",
     "text": [
      "Using TensorFlow backend.\n"
     ]
    }
   ],
   "source": [
    "import os\n",
    "import keras\n",
    "\n",
    "# Disable GPU\n",
    "os.environ[\"CUDA_VISIBLE_DEVICES\"] = \"\""
   ]
  },
  {
   "cell_type": "code",
   "execution_count": 2,
   "metadata": {},
   "outputs": [],
   "source": [
    "train, test = keras.datasets.cifar10.load_data()"
   ]
  },
  {
   "cell_type": "code",
   "execution_count": 3,
   "metadata": {},
   "outputs": [],
   "source": [
    "## 資料前處理\n",
    "def preproc_x(x, flatten=True):\n",
    "    x = x / 255.\n",
    "    if flatten:\n",
    "        x = x.reshape((len(x), -1))\n",
    "    return x\n",
    "\n",
    "def preproc_y(y, num_classes=10):\n",
    "    if y.shape[-1] == 1:\n",
    "        y = keras.utils.to_categorical(y, num_classes)\n",
    "    return y    "
   ]
  },
  {
   "cell_type": "code",
   "execution_count": 4,
   "metadata": {},
   "outputs": [],
   "source": [
    "x_train, y_train = train\n",
    "x_test, y_test = test\n",
    "\n",
    "# Preproc the inputs\n",
    "x_train = preproc_x(x_train)\n",
    "x_test = preproc_x(x_test)\n",
    "\n",
    "# Preprc the outputs\n",
    "y_train = preproc_y(y_train)\n",
    "y_test = preproc_y(y_test)"
   ]
  },
  {
   "cell_type": "code",
   "execution_count": 5,
   "metadata": {},
   "outputs": [],
   "source": [
    "from keras.layers import BatchNormalization\n",
    "\n",
    "def build_mlp(input_shape, output_units=10, num_neurons=[256, 256, 256]):\n",
    "    input_layer = keras.layers.Input(input_shape)\n",
    "    \n",
    "    for i, n_units in enumerate(num_neurons):\n",
    "        if i == 0:\n",
    "            x = keras.layers.Dense(units=n_units, \n",
    "                                   activation=\"relu\", \n",
    "                                   name=\"hidden_layer\"+str(i+1))(input_layer)\n",
    "            x = BatchNormalization()(x)\n",
    "        else:\n",
    "            x = keras.layers.Dense(units=n_units, \n",
    "                                   activation=\"relu\", \n",
    "                                   name=\"hidden_layer\"+str(i+1))(x)\n",
    "            x = BatchNormalization()(x)\n",
    "    \n",
    "    out = keras.layers.Dense(units=output_units, activation=\"softmax\", name=\"output\")(x)\n",
    "    \n",
    "    model = keras.models.Model(inputs=[input_layer], outputs=[out])\n",
    "    return model"
   ]
  },
  {
   "cell_type": "code",
   "execution_count": 6,
   "metadata": {},
   "outputs": [],
   "source": [
    "## 超參數設定\n",
    "LEARNING_RATE = 1e-3\n",
    "EPOCHS = 25\n",
    "BATCH_SIZE = 1024\n",
    "MOMENTUM = 0.95"
   ]
  },
  {
   "cell_type": "code",
   "execution_count": 24,
   "metadata": {},
   "outputs": [],
   "source": [
    "# 載入 Callbacks\n",
    "from keras.callbacks import Callback\n",
    "# from sklearn.metrics import confusion_matrix\n",
    "\n",
    "# Record_fp_tp\n",
    "class Record_tp_tn(Callback):\n",
    "    def on_train_begin(self, epoch, logs = {}):\n",
    "        logs = logs or {}\n",
    "        record_items = [\"val_tp\", \"val_tn\"]\n",
    "        for i in record_items:\n",
    "            if i not in self.params['metrics']:\n",
    "                self.params['metrics'].append(i)\n",
    "    \n",
    "    def on_epoch_end(self, epoch, logs = {}, thres=0.5):\n",
    "        logs = logs or {}\n",
    "        y_true = self.validation_data[1].argmax(axis = 1)\n",
    "        y_pred = self.model.predict(self.validation_data[0])\n",
    "        y_pred = (y_pred[:, 1] >= thres) * 1\n",
    "        \n",
    "        val_tp = sum(y_true*y_pred)\n",
    "        val_tn = sum((y_true==0) & (y_pred==0))\n",
    "        \n",
    "        logs[\"val_tp\"] = val_tp\n",
    "        logs[\"val_tn\"] = val_tn\n",
    "        \n",
    "rec_tptn = Record_tp_tn()"
   ]
  },
  {
   "cell_type": "code",
   "execution_count": 25,
   "metadata": {
    "scrolled": true
   },
   "outputs": [
    {
     "name": "stdout",
     "output_type": "stream",
     "text": [
      "Model: \"model_4\"\n",
      "_________________________________________________________________\n",
      "Layer (type)                 Output Shape              Param #   \n",
      "=================================================================\n",
      "input_4 (InputLayer)         (None, 3072)              0         \n",
      "_________________________________________________________________\n",
      "hidden_layer1 (Dense)        (None, 256)               786688    \n",
      "_________________________________________________________________\n",
      "batch_normalization_10 (Batc (None, 256)               1024      \n",
      "_________________________________________________________________\n",
      "hidden_layer2 (Dense)        (None, 256)               65792     \n",
      "_________________________________________________________________\n",
      "batch_normalization_11 (Batc (None, 256)               1024      \n",
      "_________________________________________________________________\n",
      "hidden_layer3 (Dense)        (None, 256)               65792     \n",
      "_________________________________________________________________\n",
      "batch_normalization_12 (Batc (None, 256)               1024      \n",
      "_________________________________________________________________\n",
      "output (Dense)               (None, 10)                2570      \n",
      "=================================================================\n",
      "Total params: 923,914\n",
      "Trainable params: 922,378\n",
      "Non-trainable params: 1,536\n",
      "_________________________________________________________________\n",
      "Train on 50000 samples, validate on 10000 samples\n",
      "Epoch 1/25\n",
      "50000/50000 [==============================] - 7s 138us/step - loss: 2.2123 - accuracy: 0.2687 - val_loss: 2.1345 - val_accuracy: 0.2092\n",
      "Epoch 2/25\n",
      "50000/50000 [==============================] - 6s 121us/step - loss: 1.7626 - accuracy: 0.3822 - val_loss: 1.9755 - val_accuracy: 0.3086\n",
      "Epoch 3/25\n",
      "50000/50000 [==============================] - 7s 134us/step - loss: 1.6368 - accuracy: 0.4247 - val_loss: 1.8444 - val_accuracy: 0.3702\n",
      "Epoch 4/25\n",
      "50000/50000 [==============================] - 6s 123us/step - loss: 1.5653 - accuracy: 0.4481 - val_loss: 1.7284 - val_accuracy: 0.4030\n",
      "Epoch 5/25\n",
      "50000/50000 [==============================] - 6s 119us/step - loss: 1.5108 - accuracy: 0.4663 - val_loss: 1.6497 - val_accuracy: 0.4222\n",
      "Epoch 6/25\n",
      "50000/50000 [==============================] - 6s 117us/step - loss: 1.4672 - accuracy: 0.4848 - val_loss: 1.5802 - val_accuracy: 0.4413\n",
      "Epoch 7/25\n",
      "50000/50000 [==============================] - 6s 118us/step - loss: 1.4280 - accuracy: 0.4995 - val_loss: 1.5641 - val_accuracy: 0.4440\n",
      "Epoch 8/25\n",
      "50000/50000 [==============================] - 6s 116us/step - loss: 1.3953 - accuracy: 0.5103 - val_loss: 1.5244 - val_accuracy: 0.4588\n",
      "Epoch 9/25\n",
      "50000/50000 [==============================] - 6s 116us/step - loss: 1.3637 - accuracy: 0.5222 - val_loss: 1.5087 - val_accuracy: 0.4620\n",
      "Epoch 10/25\n",
      "50000/50000 [==============================] - 6s 116us/step - loss: 1.3367 - accuracy: 0.5320 - val_loss: 1.5010 - val_accuracy: 0.4650\n",
      "Epoch 11/25\n",
      "50000/50000 [==============================] - 6s 116us/step - loss: 1.3127 - accuracy: 0.5415 - val_loss: 1.4883 - val_accuracy: 0.4706\n",
      "Epoch 12/25\n",
      "50000/50000 [==============================] - 6s 119us/step - loss: 1.2885 - accuracy: 0.5479 - val_loss: 1.4835 - val_accuracy: 0.4729\n",
      "Epoch 13/25\n",
      "50000/50000 [==============================] - 6s 116us/step - loss: 1.2650 - accuracy: 0.5595 - val_loss: 1.4856 - val_accuracy: 0.4730\n",
      "Epoch 14/25\n",
      "50000/50000 [==============================] - 6s 116us/step - loss: 1.2443 - accuracy: 0.5663 - val_loss: 1.4729 - val_accuracy: 0.4798\n",
      "Epoch 15/25\n",
      "50000/50000 [==============================] - 6s 117us/step - loss: 1.2226 - accuracy: 0.5762 - val_loss: 1.4681 - val_accuracy: 0.4846\n",
      "Epoch 16/25\n",
      "50000/50000 [==============================] - 6s 128us/step - loss: 1.2018 - accuracy: 0.5835 - val_loss: 1.4758 - val_accuracy: 0.4839\n",
      "Epoch 17/25\n",
      "50000/50000 [==============================] - 7s 131us/step - loss: 1.1819 - accuracy: 0.5907 - val_loss: 1.4586 - val_accuracy: 0.4846\n",
      "Epoch 18/25\n",
      "50000/50000 [==============================] - 7s 131us/step - loss: 1.1641 - accuracy: 0.5973 - val_loss: 1.4537 - val_accuracy: 0.4876\n",
      "Epoch 19/25\n",
      "50000/50000 [==============================] - 7s 132us/step - loss: 1.1445 - accuracy: 0.6049 - val_loss: 1.4525 - val_accuracy: 0.4892\n",
      "Epoch 20/25\n",
      "50000/50000 [==============================] - 7s 133us/step - loss: 1.1251 - accuracy: 0.6130 - val_loss: 1.4557 - val_accuracy: 0.4891\n",
      "Epoch 21/25\n",
      "50000/50000 [==============================] - 7s 132us/step - loss: 1.1086 - accuracy: 0.6198 - val_loss: 1.4519 - val_accuracy: 0.4978\n",
      "Epoch 22/25\n",
      "50000/50000 [==============================] - 7s 132us/step - loss: 1.0891 - accuracy: 0.6265 - val_loss: 1.4466 - val_accuracy: 0.4922\n",
      "Epoch 23/25\n",
      "50000/50000 [==============================] - 7s 132us/step - loss: 1.0731 - accuracy: 0.6332 - val_loss: 1.4495 - val_accuracy: 0.4952\n",
      "Epoch 24/25\n",
      "50000/50000 [==============================] - 7s 134us/step - loss: 1.0553 - accuracy: 0.6394 - val_loss: 1.4422 - val_accuracy: 0.4981\n",
      "Epoch 25/25\n",
      "50000/50000 [==============================] - 7s 135us/step - loss: 1.0401 - accuracy: 0.6435 - val_loss: 1.4487 - val_accuracy: 0.4954\n"
     ]
    },
    {
     "ename": "KeyError",
     "evalue": "'tp'",
     "output_type": "error",
     "traceback": [
      "\u001b[1;31m---------------------------------------------------------------------------\u001b[0m",
      "\u001b[1;31mKeyError\u001b[0m                                  Traceback (most recent call last)",
      "\u001b[1;32m<ipython-input-25-cc17bae5b58b>\u001b[0m in \u001b[0;36m<module>\u001b[1;34m\u001b[0m\n\u001b[0;32m     24\u001b[0m \u001b[0m將\u001b[0m \u001b[0mtp\u001b[0m\u001b[1;33m/\u001b[0m\u001b[0mtn\u001b[0m \u001b[0m從訓練完的模型中取出\u001b[0m\u001b[1;33m\u001b[0m\u001b[1;33m\u001b[0m\u001b[0m\n\u001b[0;32m     25\u001b[0m \"\"\"\n\u001b[1;32m---> 26\u001b[1;33m \u001b[0mvalid_tp\u001b[0m \u001b[1;33m=\u001b[0m \u001b[0mmodel\u001b[0m\u001b[1;33m.\u001b[0m\u001b[0mhistory\u001b[0m\u001b[1;33m.\u001b[0m\u001b[0mhistory\u001b[0m\u001b[1;33m[\u001b[0m\u001b[1;34m\"tp\"\u001b[0m\u001b[1;33m]\u001b[0m\u001b[1;33m\u001b[0m\u001b[1;33m\u001b[0m\u001b[0m\n\u001b[0m\u001b[0;32m     27\u001b[0m \u001b[0mvalid_tn\u001b[0m \u001b[1;33m=\u001b[0m \u001b[0mmodel\u001b[0m\u001b[1;33m.\u001b[0m\u001b[0mhistory\u001b[0m\u001b[1;33m.\u001b[0m\u001b[0mhistory\u001b[0m\u001b[1;33m[\u001b[0m\u001b[1;34m\"tn\"\u001b[0m\u001b[1;33m]\u001b[0m\u001b[1;33m\u001b[0m\u001b[1;33m\u001b[0m\u001b[0m\n",
      "\u001b[1;31mKeyError\u001b[0m: 'tp'"
     ]
    }
   ],
   "source": [
    "model = build_mlp(input_shape=x_train.shape[1:])\n",
    "model.summary()\n",
    "optimizer = keras.optimizers.SGD(lr=LEARNING_RATE, nesterov=True, momentum=MOMENTUM)\n",
    "model.compile(loss=\"categorical_crossentropy\", metrics=[\"accuracy\"], optimizer=optimizer)\n",
    "\n",
    "\"\"\"Code Here\n",
    "將 callbacks 放入模型訓練流程中\n",
    "\"\"\"\n",
    "model.fit(x_train, y_train, \n",
    "          epochs=EPOCHS, \n",
    "          batch_size=BATCH_SIZE, \n",
    "          validation_data=(x_test, y_test), \n",
    "          shuffle=True,\n",
    "          callbacks=[rec_tptn]\n",
    "        )\n",
    "\n",
    "# Collect results\n",
    "train_loss = model.history.history[\"loss\"]\n",
    "valid_loss = model.history.history[\"val_loss\"]\n",
    "train_acc = model.history.history[\"accuracy\"]\n",
    "valid_acc = model.history.history[\"val_accuracy\"]\n",
    "\n",
    "\"\"\"Code Here\n",
    "將 tp/tn 從訓練完的模型中取出\n",
    "\"\"\""
   ]
  },
  {
   "cell_type": "code",
   "execution_count": 27,
   "metadata": {},
   "outputs": [],
   "source": [
    "valid_tp = model.history.history[\"val_tp\"]\n",
    "valid_tn = model.history.history[\"val_tn\"]"
   ]
  },
  {
   "cell_type": "code",
   "execution_count": 28,
   "metadata": {},
   "outputs": [
    {
     "data": {
      "image/png": "[encoded data removed]",
      "text/plain": [
       "<Figure size 432x288 with 1 Axes>"
      ]
     },
     "metadata": {
      "needs_background": "light"
     },
     "output_type": "display_data"
    },
    {
     "data": {
      "image/png": "[encoded data removed]",
      "text/plain": [
       "<Figure size 432x288 with 1 Axes>"
      ]
     },
     "metadata": {
      "needs_background": "light"
     },
     "output_type": "display_data"
    },
    {
     "data": {
      "image/png": "[encoded data removed]",
      "text/plain": [
       "<Figure size 432x288 with 1 Axes>"
      ]
     },
     "metadata": {
      "needs_background": "light"
     },
     "output_type": "display_data"
    }
   ],
   "source": [
    "import matplotlib.pyplot as plt\n",
    "%matplotlib inline\n",
    "\n",
    "plt.plot(range(len(train_loss)), train_loss, label=\"train loss\")\n",
    "plt.plot(range(len(valid_loss)), valid_loss, label=\"valid loss\")\n",
    "plt.legend()\n",
    "plt.title(\"Loss\")\n",
    "plt.show()\n",
    "\n",
    "plt.plot(range(len(train_acc)), train_acc, label=\"train accuracy\")\n",
    "plt.plot(range(len(valid_acc)), valid_acc, label=\"valid accuracy\")\n",
    "plt.legend()\n",
    "plt.title(\"Accuracy\")\n",
    "plt.show()\n",
    "\n",
    "plt.plot(range(len(valid_tp)), valid_tp, label=\"valid tp\", color=\"navy\")\n",
    "plt.plot(range(len(valid_tn)), valid_tn, label=\"valid tn\", color=\"red\")\n",
    "plt.legend()\n",
    "plt.title(\"True positives and True Negatives\")\n",
    "plt.show()\n"
   ]
  }
 ],
 "metadata": {
  "kernelspec": {
   "display_name": "Python 3",
   "language": "python",
   "name": "python3"
  },
  "language_info": {
   "codemirror_mode": {
    "name": "ipython",
    "version": 3
   },
   "file_extension": ".py",
   "mimetype": "text/x-python",
   "name": "python",
   "nbconvert_exporter": "python",
   "pygments_lexer": "ipython3",
   "version": "3.7.7"
  }
 },
 "nbformat": 4,
 "nbformat_minor": 2
}
