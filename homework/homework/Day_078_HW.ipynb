{
 "cells": [
  {
   "cell_type": "markdown",
   "metadata": {},
   "source": [
    "## Work\n",
    "1. 請嘗試將 preproc_x 替換成以每筆資料的 min/max 進行標準化至 -1 ~ 1 間，再進行訓練\n",
    "2. 請嘗試將 mlp 疊更深 (e.g 5~10 層)，進行訓練後觀察 learning curve 的走勢\n",
    "3. (optional) 請改用 GPU 進行訓練 (如果你有 GPU 的話)，比較使用 CPU 與 GPU 的訓練速度"
   ]
  },
  {
   "cell_type": "code",
   "execution_count": 1,
   "metadata": {},
   "outputs": [],
   "source": [
    "## \n",
    "\"\"\"\n",
    "Your code here (optional)\n",
    "確認硬體資源\n",
    "\"\"\"\n"
   ]
  },
  {
   "cell_type": "code",
   "execution_count": 1,
   "metadata": {},
   "outputs": [
    {
     "name": "stderr",
     "output_type": "stream",
     "text": [
      "Using TensorFlow backend.\n"
     ]
    }
   ],
   "source": [
    "import os\n",
    "import keras\n",
    "\n",
    "# 請嘗試設定 GPU：os.environ\n",
    "os.environ[\"CUDA_VISIBLE_DEVICES\"] = \"0\""
   ]
  },
  {
   "cell_type": "code",
   "execution_count": 23,
   "metadata": {},
   "outputs": [],
   "source": [
    "train, test = keras.datasets.cifar10.load_data()"
   ]
  },
  {
   "cell_type": "code",
   "execution_count": 28,
   "metadata": {},
   "outputs": [],
   "source": [
    "## 資料前處理\n",
    "\"\"\"\n",
    "Your code here\n",
    "\"\"\"\n",
    "\n",
    "def preproc_x(x, flatten=True):\n",
    "    x = x / 255.\n",
    "    x = -1 + 2*x\n",
    "    if flatten:\n",
    "        x = x.reshape((len(x), -1))\n",
    "    return x\n",
    "\n",
    "def preproc_y(y, num_classes = 10):\n",
    "    if y.shape[-1] == 1:\n",
    "        y = keras.utils.to_categorical(y, num_classes)\n",
    "    return y"
   ]
  },
  {
   "cell_type": "code",
   "execution_count": 29,
   "metadata": {},
   "outputs": [],
   "source": [
    "x_train, y_train = train\n",
    "x_test, y_test = test\n",
    "\n",
    "# Preproc the inputs\n",
    "x_train = preproc_x(x_train)\n",
    "x_test = preproc_x(x_test)\n",
    "\n",
    "# Preprc the outputs\n",
    "y_train = preproc_y(y_train)\n",
    "y_test = preproc_y(y_test)"
   ]
  },
  {
   "cell_type": "code",
   "execution_count": 39,
   "metadata": {},
   "outputs": [
    {
     "name": "stdout",
     "output_type": "stream",
     "text": [
      "Model: \"model_5\"\n",
      "_________________________________________________________________\n",
      "Layer (type)                 Output Shape              Param #   \n",
      "=================================================================\n",
      "input_5 (InputLayer)         (None, 3072)              0         \n",
      "_________________________________________________________________\n",
      "hidden_layer1 (Dense)        (None, 512)               1573376   \n",
      "_________________________________________________________________\n",
      "dense_5 (Dense)              (None, 256)               131328    \n",
      "_________________________________________________________________\n",
      "dense_6 (Dense)              (None, 256)               65792     \n",
      "_________________________________________________________________\n",
      "dense_7 (Dense)              (None, 256)               65792     \n",
      "_________________________________________________________________\n",
      "dense_8 (Dense)              (None, 128)               32896     \n",
      "_________________________________________________________________\n",
      "dense_9 (Dense)              (None, 128)               16512     \n",
      "_________________________________________________________________\n",
      "dense_10 (Dense)             (None, 128)               16512     \n",
      "_________________________________________________________________\n",
      "output (Dense)               (None, 10)                1290      \n",
      "=================================================================\n",
      "Total params: 1,903,498\n",
      "Trainable params: 1,903,498\n",
      "Non-trainable params: 0\n",
      "_________________________________________________________________\n"
     ]
    }
   ],
   "source": [
    "\"\"\"Code Here\n",
    "建立你的神經網路\n",
    "\"\"\"\n",
    "def build_mlp(input_shape, output_units=10, num_neurons=[512, 256, 128]):\n",
    "    input_layer = keras.layers.Input(input_shape)\n",
    "    \n",
    "    for i, n_units in enumerate(num_neurons):\n",
    "        if i == 0:\n",
    "            x = keras.layers.Dense(units=n_units, activation=\"relu\", name=\"hidden_layer\"+str(i+1))(input_layer)\n",
    "        else:\n",
    "            x = keras.layers.Dense(units=n_units, activation=\"relu\")(x)\n",
    "            x = keras.layers.Dense(units=n_units, activation=\"relu\")(x)\n",
    "            x = keras.layers.Dense(units=n_units, activation=\"relu\")(x)\n",
    "    \n",
    "    out = keras.layers.Dense(units=output_units, activation=\"softmax\", name=\"output\")(x)\n",
    "    \n",
    "    model = keras.models.Model(inputs=[input_layer], outputs=[out])\n",
    "    return model \n",
    "\n",
    "model = build_mlp(input_shape=x_train.shape[1:])\n",
    "model.summary()"
   ]
  },
  {
   "cell_type": "code",
   "execution_count": 40,
   "metadata": {},
   "outputs": [],
   "source": [
    "## 超參數設定\n",
    "LEARNING_RATE = 0.001\n",
    "EPOCHS = 20\n",
    "BATCH_SIZE = 256"
   ]
  },
  {
   "cell_type": "code",
   "execution_count": 41,
   "metadata": {},
   "outputs": [],
   "source": [
    "optimizer = keras.optimizers.Adam(lr=LEARNING_RATE)\n",
    "model.compile(loss=\"categorical_crossentropy\", metrics=[\"accuracy\"], optimizer=optimizer)"
   ]
  },
  {
   "cell_type": "code",
   "execution_count": 42,
   "metadata": {},
   "outputs": [
    {
     "name": "stdout",
     "output_type": "stream",
     "text": [
      "Train on 50000 samples, validate on 10000 samples\n",
      "Epoch 1/20\n",
      "50000/50000 [==============================] - 17s 342us/step - loss: 1.7077 - accuracy: 0.3902 - val_loss: 1.5100 - val_accuracy: 0.4628\n",
      "Epoch 2/20\n",
      "50000/50000 [==============================] - 18s 359us/step - loss: 1.4684 - accuracy: 0.4811 - val_loss: 1.4322 - val_accuracy: 0.4950 - accuracy: 0.47 - ETA: 5s -\n",
      "Epoch 3/20\n",
      "50000/50000 [==============================] - 16s 326us/step - loss: 1.3535 - accuracy: 0.5215 - val_loss: 1.3924 - val_accuracy: 0.5051\n",
      "Epoch 4/20\n",
      "50000/50000 [==============================] - 15s 306us/step - loss: 1.2566 - accuracy: 0.5523 - val_loss: 1.3890 - val_accuracy: 0.5204\n",
      "Epoch 5/20\n",
      "50000/50000 [==============================] - 16s 327us/step - loss: 1.1746 - accuracy: 0.5835 - val_loss: 1.3630 - val_accuracy: 0.5276\n",
      "Epoch 6/20\n",
      "50000/50000 [==============================] - 17s 342us/step - loss: 1.0914 - accuracy: 0.6121 - val_loss: 1.3581 - val_accuracy: 0.5368\n",
      "Epoch 7/20\n",
      "50000/50000 [==============================] - 16s 325us/step - loss: 1.0226 - accuracy: 0.6384 - val_loss: 1.3680 - val_accuracy: 0.5348\n",
      "Epoch 8/20\n",
      "50000/50000 [==============================] - 15s 291us/step - loss: 0.9439 - accuracy: 0.6632 - val_loss: 1.4016 - val_accuracy: 0.5339\n",
      "Epoch 9/20\n",
      "50000/50000 [==============================] - 12s 247us/step - loss: 0.8802 - accuracy: 0.6883 - val_loss: 1.4587 - val_accuracy: 0.5254\n",
      "Epoch 10/20\n",
      "50000/50000 [==============================] - 12s 244us/step - loss: 0.8099 - accuracy: 0.7121 - val_loss: 1.4963 - val_accuracy: 0.5250 0s -\n",
      "Epoch 11/20\n",
      "50000/50000 [==============================] - 12s 243us/step - loss: 0.7383 - accuracy: 0.7369 - val_loss: 1.5735 - val_accuracy: 0.5269\n",
      "Epoch 12/20\n",
      "50000/50000 [==============================] - 12s 245us/step - loss: 0.6928 - accuracy: 0.7546 - val_loss: 1.6087 - val_accuracy: 0.5286\n",
      "Epoch 13/20\n",
      "50000/50000 [==============================] - 12s 248us/step - loss: 0.6277 - accuracy: 0.7764 - val_loss: 1.5449 - val_accuracy: 0.5340\n",
      "Epoch 14/20\n",
      "50000/50000 [==============================] - 12s 249us/step - loss: 0.5758 - accuracy: 0.7964 - val_loss: 1.7001 - val_accuracy: 0.5305\n",
      "Epoch 15/20\n",
      "50000/50000 [==============================] - 12s 244us/step - loss: 0.5231 - accuracy: 0.8152 - val_loss: 1.7761 - val_accuracy: 0.5322\n",
      "Epoch 16/20\n",
      "50000/50000 [==============================] - 12s 247us/step - loss: 0.4868 - accuracy: 0.8267 - val_loss: 1.9545 - val_accuracy: 0.5211\n",
      "Epoch 17/20\n",
      "50000/50000 [==============================] - 12s 249us/step - loss: 0.4401 - accuracy: 0.8452 - val_loss: 1.9462 - val_accuracy: 0.5365\n",
      "Epoch 18/20\n",
      "50000/50000 [==============================] - 13s 262us/step - loss: 0.3972 - accuracy: 0.8603 - val_loss: 2.0642 - val_accuracy: 0.5322\n",
      "Epoch 19/20\n",
      "50000/50000 [==============================] - 13s 254us/step - loss: 0.3799 - accuracy: 0.8663 - val_loss: 2.0839 - val_accuracy: 0.5299\n",
      "Epoch 20/20\n",
      "50000/50000 [==============================] - 13s 257us/step - loss: 0.3510 - accuracy: 0.8760 - val_loss: 2.2135 - val_accuracy: 0.5360\n"
     ]
    },
    {
     "data": {
      "text/plain": [
       "<keras.callbacks.callbacks.History at 0x2c1b68c75c8>"
      ]
     },
     "execution_count": 42,
     "metadata": {},
     "output_type": "execute_result"
    }
   ],
   "source": [
    "model.fit(x_train, y_train, \n",
    "          epochs=EPOCHS, \n",
    "          batch_size=BATCH_SIZE, \n",
    "          validation_data=(x_test, y_test), \n",
    "          shuffle=True)"
   ]
  },
  {
   "cell_type": "code",
   "execution_count": 43,
   "metadata": {},
   "outputs": [
    {
     "data": {
      "image/png": "[encoded data removed]",
      "text/plain": [
       "<Figure size 432x288 with 1 Axes>"
      ]
     },
     "metadata": {
      "needs_background": "light"
     },
     "output_type": "display_data"
    },
    {
     "data": {
      "image/png": "[encoded data removed]",
      "text/plain": [
       "<Figure size 432x288 with 1 Axes>"
      ]
     },
     "metadata": {
      "needs_background": "light"
     },
     "output_type": "display_data"
    }
   ],
   "source": [
    "import matplotlib.pyplot as plt\n",
    "\n",
    "\n",
    "train_loss = model.history.history[\"loss\"]\n",
    "valid_loss = model.history.history[\"val_loss\"]\n",
    "\n",
    "train_acc = model.history.history[\"accuracy\"]\n",
    "valid_acc = model.history.history[\"val_accuracy\"]\n",
    "\n",
    "plt.plot(range(len(train_loss)), train_loss, label=\"train loss\")\n",
    "plt.plot(range(len(valid_loss)), valid_loss, label=\"valid loss\")\n",
    "plt.legend()\n",
    "plt.title(\"Loss\")\n",
    "plt.show()\n",
    "\n",
    "plt.plot(range(len(train_acc)), train_acc, label=\"train accuracy\")\n",
    "plt.plot(range(len(valid_acc)), valid_acc, label=\"valid accuracy\")\n",
    "plt.legend()\n",
    "plt.title(\"Accuracy\")\n",
    "plt.show()"
   ]
  }
 ],
 "metadata": {
  "kernelspec": {
   "display_name": "Python 3",
   "language": "python",
   "name": "python3"
  },
  "language_info": {
   "codemirror_mode": {
    "name": "ipython",
    "version": 3
   },
   "file_extension": ".py",
   "mimetype": "text/x-python",
   "name": "python",
   "nbconvert_exporter": "python",
   "pygments_lexer": "ipython3",
   "version": "3.7.7"
  }
 },
 "nbformat": 4,
 "nbformat_minor": 2
}
