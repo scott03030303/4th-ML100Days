{
 "cells": [
  {
   "cell_type": "markdown",
   "metadata": {},
   "source": [
    "## Work\n",
    "1. 試改變 monitor \"Validation Accuracy\" 並比較結果\n",
    "2. 調整 earlystop 的等待次數至 10, 25 並比較結果"
   ]
  },
  {
   "cell_type": "code",
   "execution_count": 1,
   "metadata": {},
   "outputs": [
    {
     "name": "stderr",
     "output_type": "stream",
     "text": [
      "Using TensorFlow backend.\n"
     ]
    }
   ],
   "source": [
    "import os\n",
    "import keras\n",
    "import matplotlib.pyplot as plt\n",
    "%matplotlib inline\n",
    "\n",
    "# Disable GPU\n",
    "os.environ[\"CUDA_VISIBLE_DEVICES\"] = \"\""
   ]
  },
  {
   "cell_type": "code",
   "execution_count": 2,
   "metadata": {},
   "outputs": [],
   "source": [
    "train, test = keras.datasets.cifar10.load_data()"
   ]
  },
  {
   "cell_type": "code",
   "execution_count": 3,
   "metadata": {},
   "outputs": [],
   "source": [
    "# 資料前處理\n",
    "def preproc_x(x, flatten=True):\n",
    "    x = x / 255.\n",
    "    if flatten:\n",
    "        x = x.reshape((len(x), -1))\n",
    "    return x\n",
    "\n",
    "def preproc_y(y, num_classes=10):\n",
    "    if y.shape[-1] == 1:\n",
    "        y = keras.utils.to_categorical(y, num_classes)\n",
    "    return y    "
   ]
  },
  {
   "cell_type": "code",
   "execution_count": 4,
   "metadata": {},
   "outputs": [],
   "source": [
    "x_train, y_train = train\n",
    "x_test, y_test = test\n",
    "\n",
    "# Preproc the inputs\n",
    "x_train = preproc_x(x_train)\n",
    "x_test = preproc_x(x_test)\n",
    "\n",
    "# Preprc the outputs\n",
    "y_train = preproc_y(y_train)\n",
    "y_test = preproc_y(y_test)"
   ]
  },
  {
   "cell_type": "code",
   "execution_count": 5,
   "metadata": {},
   "outputs": [],
   "source": [
    "from keras.layers import BatchNormalization\n",
    "\n",
    "\"\"\"\n",
    "建立神經網路，並加入 BN layer\n",
    "\"\"\"\n",
    "def build_mlp(input_shape, output_units=10, num_neurons=[512, 256, 128]):\n",
    "    input_layer = keras.layers.Input(input_shape)\n",
    "    \n",
    "    for i, n_units in enumerate(num_neurons):\n",
    "        if i == 0:\n",
    "            x = keras.layers.Dense(units=n_units, \n",
    "                                   activation=\"relu\", \n",
    "                                   name=\"hidden_layer\"+str(i+1))(input_layer)\n",
    "            x = BatchNormalization()(x)\n",
    "        else:\n",
    "            x = keras.layers.Dense(units=n_units, \n",
    "                                   activation=\"relu\", \n",
    "                                   name=\"hidden_layer\"+str(i+1))(x)\n",
    "            x = BatchNormalization()(x)\n",
    "    \n",
    "    out = keras.layers.Dense(units=output_units, activation=\"softmax\", name=\"output\")(x)\n",
    "    \n",
    "    model = keras.models.Model(inputs=[input_layer], outputs=[out])\n",
    "    return model"
   ]
  },
  {
   "cell_type": "code",
   "execution_count": 6,
   "metadata": {},
   "outputs": [],
   "source": [
    "# 超參數設定\n",
    "LEARNING_RATE = 1e-3\n",
    "EPOCHS = 50\n",
    "BATCH_SIZE = 1024\n",
    "MOMENTUM = 0.95"
   ]
  },
  {
   "cell_type": "code",
   "execution_count": 7,
   "metadata": {},
   "outputs": [],
   "source": [
    "# 載入 Callbacks\n",
    "from keras.callbacks import EarlyStopping\n",
    "\n",
    "earlystop = EarlyStopping(monitor=\"val_loss\",\n",
    "                          patience=10,\n",
    "                          verbose=1)"
   ]
  },
  {
   "cell_type": "code",
   "execution_count": 8,
   "metadata": {},
   "outputs": [
    {
     "name": "stdout",
     "output_type": "stream",
     "text": [
      "Model: \"model_1\"\n",
      "_________________________________________________________________\n",
      "Layer (type)                 Output Shape              Param #   \n",
      "=================================================================\n",
      "input_1 (InputLayer)         (None, 3072)              0         \n",
      "_________________________________________________________________\n",
      "hidden_layer1 (Dense)        (None, 512)               1573376   \n",
      "_________________________________________________________________\n",
      "batch_normalization_1 (Batch (None, 512)               2048      \n",
      "_________________________________________________________________\n",
      "hidden_layer2 (Dense)        (None, 256)               131328    \n",
      "_________________________________________________________________\n",
      "batch_normalization_2 (Batch (None, 256)               1024      \n",
      "_________________________________________________________________\n",
      "hidden_layer3 (Dense)        (None, 128)               32896     \n",
      "_________________________________________________________________\n",
      "batch_normalization_3 (Batch (None, 128)               512       \n",
      "_________________________________________________________________\n",
      "output (Dense)               (None, 10)                1290      \n",
      "=================================================================\n",
      "Total params: 1,742,474\n",
      "Trainable params: 1,740,682\n",
      "Non-trainable params: 1,792\n",
      "_________________________________________________________________\n",
      "Train on 50000 samples, validate on 10000 samples\n",
      "Epoch 1/50\n",
      "50000/50000 [==============================] - 12s 245us/step - loss: 2.2367 - accuracy: 0.2679 - val_loss: 2.1496 - val_accuracy: 0.2026\n",
      "Epoch 2/50\n",
      "50000/50000 [==============================] - 11s 212us/step - loss: 1.7478 - accuracy: 0.3930 - val_loss: 1.9917 - val_accuracy: 0.2807\n",
      "Epoch 3/50\n",
      "50000/50000 [==============================] - 10s 197us/step - loss: 1.6201 - accuracy: 0.4325 - val_loss: 1.8559 - val_accuracy: 0.3368\n",
      "Epoch 4/50\n",
      "50000/50000 [==============================] - 9s 182us/step - loss: 1.5465 - accuracy: 0.4604 - val_loss: 1.7337 - val_accuracy: 0.3867\n",
      "Epoch 5/50\n",
      "50000/50000 [==============================] - 9s 174us/step - loss: 1.4915 - accuracy: 0.4786 - val_loss: 1.6680 - val_accuracy: 0.4091\n",
      "Epoch 6/50\n",
      "50000/50000 [==============================] - 11s 213us/step - loss: 1.4453 - accuracy: 0.4964 - val_loss: 1.6027 - val_accuracy: 0.4376\n",
      "Epoch 7/50\n",
      "50000/50000 [==============================] - 11s 210us/step - loss: 1.4055 - accuracy: 0.5108 - val_loss: 1.5627 - val_accuracy: 0.4516\n",
      "Epoch 8/50\n",
      "50000/50000 [==============================] - 9s 174us/step - loss: 1.3704 - accuracy: 0.5222 - val_loss: 1.5265 - val_accuracy: 0.4608\n",
      "Epoch 9/50\n",
      "50000/50000 [==============================] - 9s 177us/step - loss: 1.3391 - accuracy: 0.5347 - val_loss: 1.5036 - val_accuracy: 0.4707\n",
      "Epoch 10/50\n",
      "50000/50000 [==============================] - 10s 194us/step - loss: 1.3101 - accuracy: 0.5454 - val_loss: 1.4940 - val_accuracy: 0.4726\n",
      "Epoch 11/50\n",
      "50000/50000 [==============================] - 10s 193us/step - loss: 1.2786 - accuracy: 0.5575 - val_loss: 1.4884 - val_accuracy: 0.4720\n",
      "Epoch 12/50\n",
      "50000/50000 [==============================] - 9s 187us/step - loss: 1.2525 - accuracy: 0.5667 - val_loss: 1.4787 - val_accuracy: 0.4777\n",
      "Epoch 13/50\n",
      "50000/50000 [==============================] - 10s 207us/step - loss: 1.2273 - accuracy: 0.5759 - val_loss: 1.4683 - val_accuracy: 0.4782\n",
      "Epoch 14/50\n",
      "50000/50000 [==============================] - 9s 185us/step - loss: 1.2010 - accuracy: 0.5869 - val_loss: 1.4639 - val_accuracy: 0.4866\n",
      "Epoch 15/50\n",
      "50000/50000 [==============================] - 9s 186us/step - loss: 1.1760 - accuracy: 0.5953 - val_loss: 1.4531 - val_accuracy: 0.4876\n",
      "Epoch 16/50\n",
      "50000/50000 [==============================] - 9s 186us/step - loss: 1.1537 - accuracy: 0.6035 - val_loss: 1.4554 - val_accuracy: 0.4867\n",
      "Epoch 17/50\n",
      "50000/50000 [==============================] - 9s 187us/step - loss: 1.1300 - accuracy: 0.6118 - val_loss: 1.4469 - val_accuracy: 0.4901\n",
      "Epoch 18/50\n",
      "50000/50000 [==============================] - 9s 187us/step - loss: 1.1085 - accuracy: 0.6198 - val_loss: 1.4632 - val_accuracy: 0.4857\n",
      "Epoch 19/50\n",
      "50000/50000 [==============================] - 9s 186us/step - loss: 1.0862 - accuracy: 0.6280 - val_loss: 1.4453 - val_accuracy: 0.4891\n",
      "Epoch 20/50\n",
      "50000/50000 [==============================] - 9s 185us/step - loss: 1.0632 - accuracy: 0.6383 - val_loss: 1.4469 - val_accuracy: 0.4914\n",
      "Epoch 21/50\n",
      "50000/50000 [==============================] - 9s 174us/step - loss: 1.0419 - accuracy: 0.6455 - val_loss: 1.4480 - val_accuracy: 0.4932\n",
      "Epoch 22/50\n",
      "50000/50000 [==============================] - 9s 172us/step - loss: 1.0199 - accuracy: 0.6545 - val_loss: 1.4588 - val_accuracy: 0.4945\n",
      "Epoch 23/50\n",
      "50000/50000 [==============================] - 8s 165us/step - loss: 1.0008 - accuracy: 0.6611 - val_loss: 1.4532 - val_accuracy: 0.4928\n",
      "Epoch 24/50\n",
      "50000/50000 [==============================] - 8s 169us/step - loss: 0.9787 - accuracy: 0.6702 - val_loss: 1.4636 - val_accuracy: 0.4904\n",
      "Epoch 25/50\n",
      "50000/50000 [==============================] - 9s 176us/step - loss: 0.9596 - accuracy: 0.6777 - val_loss: 1.4578 - val_accuracy: 0.4913\n",
      "Epoch 26/50\n",
      "50000/50000 [==============================] - 8s 169us/step - loss: 0.9392 - accuracy: 0.6862 - val_loss: 1.4563 - val_accuracy: 0.4978\n",
      "Epoch 27/50\n",
      "50000/50000 [==============================] - 9s 185us/step - loss: 0.9188 - accuracy: 0.6946 - val_loss: 1.4608 - val_accuracy: 0.4983\n",
      "Epoch 28/50\n",
      "50000/50000 [==============================] - 9s 172us/step - loss: 0.8993 - accuracy: 0.7019 - val_loss: 1.4691 - val_accuracy: 0.4940\n",
      "Epoch 29/50\n",
      "50000/50000 [==============================] - 8s 167us/step - loss: 0.8787 - accuracy: 0.7069 - val_loss: 1.4704 - val_accuracy: 0.4992\n",
      "Epoch 00029: early stopping\n"
     ]
    }
   ],
   "source": [
    "model = build_mlp(input_shape=x_train.shape[1:])\n",
    "model.summary()\n",
    "optimizer = keras.optimizers.SGD(lr=LEARNING_RATE, nesterov=True, momentum=MOMENTUM)\n",
    "model.compile(loss=\"categorical_crossentropy\", metrics=[\"accuracy\"], optimizer=optimizer)\n",
    "\n",
    "model.fit(x_train, y_train, \n",
    "          epochs=EPOCHS, \n",
    "          batch_size=BATCH_SIZE, \n",
    "          validation_data=(x_test, y_test), \n",
    "          shuffle=True,\n",
    "          callbacks=[earlystop]\n",
    "         )\n",
    "\n",
    "# Collect results\n",
    "train_loss = model.history.history[\"loss\"]\n",
    "valid_loss = model.history.history[\"val_loss\"]\n",
    "train_acc = model.history.history[\"accuracy\"]\n",
    "valid_acc = model.history.history[\"val_accuracy\"]"
   ]
  },
  {
   "cell_type": "code",
   "execution_count": 9,
   "metadata": {},
   "outputs": [
    {
     "data": {
      "image/png": "[encoded data removed]",
      "text/plain": [
       "<Figure size 432x288 with 1 Axes>"
      ]
     },
     "metadata": {
      "needs_background": "light"
     },
     "output_type": "display_data"
    },
    {
     "data": {
      "image/png": "[encoded data removed]",
      "text/plain": [
       "<Figure size 432x288 with 1 Axes>"
      ]
     },
     "metadata": {
      "needs_background": "light"
     },
     "output_type": "display_data"
    }
   ],
   "source": [
    "import matplotlib.pyplot as plt\n",
    "%matplotlib inline\n",
    "\n",
    "import matplotlib.pyplot as plt\n",
    "%matplotlib inline\n",
    "\n",
    "plt.plot(range(len(train_loss)), train_loss, label=\"train loss\")\n",
    "plt.plot(range(len(valid_loss)), valid_loss, label=\"valid loss\")\n",
    "plt.legend()\n",
    "plt.title(\"Loss\")\n",
    "plt.show()\n",
    "\n",
    "plt.plot(range(len(train_acc)), train_acc, label=\"train accuracy\")\n",
    "plt.plot(range(len(valid_acc)), valid_acc, label=\"valid accuracy\")\n",
    "plt.legend()\n",
    "plt.title(\"Accuracy\")\n",
    "plt.show()"
   ]
  }
 ],
 "metadata": {
  "kernelspec": {
   "display_name": "Python 3",
   "language": "python",
   "name": "python3"
  },
  "language_info": {
   "codemirror_mode": {
    "name": "ipython",
    "version": 3
   },
   "file_extension": ".py",
   "mimetype": "text/x-python",
   "name": "python",
   "nbconvert_exporter": "python",
   "pygments_lexer": "ipython3",
   "version": "3.7.7"
  }
 },
 "nbformat": 4,
 "nbformat_minor": 2
}
