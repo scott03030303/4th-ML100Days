{
 "cells": [
  {
   "cell_type": "markdown",
   "metadata": {},
   "source": [
    "## Work\n",
    "1. 請嘗試寫一個 callback 用來記錄各類別在訓練過程中，對驗證集的 True Positive 與 True Negative"
   ]
  },
  {
   "cell_type": "code",
   "execution_count": 1,
   "metadata": {},
   "outputs": [
    {
     "name": "stderr",
     "output_type": "stream",
     "text": [
      "Using TensorFlow backend.\n"
     ]
    }
   ],
   "source": [
    "import os\n",
    "import keras\n",
    "\n",
    "# Disable GPU\n",
    "os.environ[\"CUDA_VISIBLE_DEVICES\"] = \"\""
   ]
  },
  {
   "cell_type": "code",
   "execution_count": 2,
   "metadata": {},
   "outputs": [],
   "source": [
    "train, test = keras.datasets.cifar10.load_data()"
   ]
  },
  {
   "cell_type": "code",
   "execution_count": 3,
   "metadata": {},
   "outputs": [],
   "source": [
    "## 資料前處理\n",
    "def preproc_x(x, flatten=True):\n",
    "    x = x / 255.\n",
    "    if flatten:\n",
    "        x = x.reshape((len(x), -1))\n",
    "    return x\n",
    "\n",
    "def preproc_y(y, num_classes=10):\n",
    "    if y.shape[-1] == 1:\n",
    "        y = keras.utils.to_categorical(y, num_classes)\n",
    "    return y    "
   ]
  },
  {
   "cell_type": "code",
   "execution_count": 4,
   "metadata": {},
   "outputs": [],
   "source": [
    "x_train, y_train = train\n",
    "x_test, y_test = test\n",
    "\n",
    "# Preproc the inputs\n",
    "x_train = preproc_x(x_train)\n",
    "x_test = preproc_x(x_test)\n",
    "\n",
    "# Preprc the outputs\n",
    "y_train = preproc_y(y_train)\n",
    "y_test = preproc_y(y_test)"
   ]
  },
  {
   "cell_type": "code",
   "execution_count": 5,
   "metadata": {},
   "outputs": [],
   "source": [
    "from keras.layers import BatchNormalization\n",
    "\n",
    "def build_mlp(input_shape, output_units=10, num_neurons=[256, 256, 256]):\n",
    "    input_layer = keras.layers.Input(input_shape)\n",
    "    \n",
    "    for i, n_units in enumerate(num_neurons):\n",
    "        if i == 0:\n",
    "            x = keras.layers.Dense(units=n_units, \n",
    "                                   activation=\"relu\", \n",
    "                                   name=\"hidden_layer\"+str(i+1))(input_layer)\n",
    "            x = BatchNormalization()(x)\n",
    "        else:\n",
    "            x = keras.layers.Dense(units=n_units, \n",
    "                                   activation=\"relu\", \n",
    "                                   name=\"hidden_layer\"+str(i+1))(x)\n",
    "            x = BatchNormalization()(x)\n",
    "    \n",
    "    out = keras.layers.Dense(units=output_units, activation=\"softmax\", name=\"output\")(x)\n",
    "    \n",
    "    model = keras.models.Model(inputs=[input_layer], outputs=[out])\n",
    "    return model"
   ]
  },
  {
   "cell_type": "code",
   "execution_count": 6,
   "metadata": {},
   "outputs": [],
   "source": [
    "## 超參數設定\n",
    "LEARNING_RATE = 1e-3\n",
    "EPOCHS = 25\n",
    "BATCH_SIZE = 1024\n",
    "MOMENTUM = 0.95"
   ]
  },
  {
   "cell_type": "code",
   "execution_count": 19,
   "metadata": {},
   "outputs": [],
   "source": [
    "# 載入 Callbacks\n",
    "from keras.callbacks import Callback\n",
    "from sklearn.metrics import confusion_matrix\n",
    "\n",
    "# Record_fp_tp\n",
    "class Record_tp_tn(Callback):\n",
    "    def on_epoch_end(self, epoch, logs = {}, thres=0.5):\n",
    "        logs = logs or {}\n",
    "        y_true = self.validation_data[1].argmax(axis = 1)\n",
    "        y_pred = self.model.predict(self.validation_data[0])\n",
    "        y_pred = (y_pred[:, 1] >= thres) * 1 # 分 1 or 0\n",
    "        \n",
    "        logs[\"confusion_matrix\"] = confusion_matrix(y_true, y_pred)\n",
    "        logs[\"tn\"], logs[\"fp\"], logs[\"fn\"], logs[\"tp\"] = confusion_matrix([0, 1, 0, 1], [1, 1, 1, 0]).ravel()\n",
    "rec_tptn = Record_tp_tn()"
   ]
  },
  {
   "cell_type": "code",
   "execution_count": 20,
   "metadata": {
    "scrolled": true
   },
   "outputs": [
    {
     "name": "stdout",
     "output_type": "stream",
     "text": [
      "Model: \"model_3\"\n",
      "_________________________________________________________________\n",
      "Layer (type)                 Output Shape              Param #   \n",
      "=================================================================\n",
      "input_3 (InputLayer)         (None, 3072)              0         \n",
      "_________________________________________________________________\n",
      "hidden_layer1 (Dense)        (None, 256)               786688    \n",
      "_________________________________________________________________\n",
      "batch_normalization_7 (Batch (None, 256)               1024      \n",
      "_________________________________________________________________\n",
      "hidden_layer2 (Dense)        (None, 256)               65792     \n",
      "_________________________________________________________________\n",
      "batch_normalization_8 (Batch (None, 256)               1024      \n",
      "_________________________________________________________________\n",
      "hidden_layer3 (Dense)        (None, 256)               65792     \n",
      "_________________________________________________________________\n",
      "batch_normalization_9 (Batch (None, 256)               1024      \n",
      "_________________________________________________________________\n",
      "output (Dense)               (None, 10)                2570      \n",
      "=================================================================\n",
      "Total params: 923,914\n",
      "Trainable params: 922,378\n",
      "Non-trainable params: 1,536\n",
      "_________________________________________________________________\n",
      "Train on 50000 samples, validate on 10000 samples\n",
      "Epoch 1/25\n",
      "50000/50000 [==============================] - 8s 158us/step - loss: 2.2282 - accuracy: 0.2663 - val_loss: 2.1361 - val_accuracy: 0.2294\n",
      "Epoch 2/25\n",
      "50000/50000 [==============================] - 7s 143us/step - loss: 1.7607 - accuracy: 0.3903 - val_loss: 2.0064 - val_accuracy: 0.2729\n",
      "Epoch 3/25\n",
      "50000/50000 [==============================] - 7s 141us/step - loss: 1.6336 - accuracy: 0.4300 - val_loss: 1.8664 - val_accuracy: 0.3583\n",
      "Epoch 4/25\n",
      "50000/50000 [==============================] - 6s 122us/step - loss: 1.5603 - accuracy: 0.4546 - val_loss: 1.7517 - val_accuracy: 0.3929\n",
      "Epoch 5/25\n",
      "50000/50000 [==============================] - 6s 126us/step - loss: 1.5062 - accuracy: 0.4747 - val_loss: 1.6748 - val_accuracy: 0.4096\n",
      "Epoch 6/25\n",
      "50000/50000 [==============================] - 6s 127us/step - loss: 1.4637 - accuracy: 0.4891 - val_loss: 1.5999 - val_accuracy: 0.4351\n",
      "Epoch 7/25\n",
      "50000/50000 [==============================] - 6s 123us/step - loss: 1.4263 - accuracy: 0.5034 - val_loss: 1.5582 - val_accuracy: 0.4463\n",
      "Epoch 8/25\n",
      "50000/50000 [==============================] - 6s 118us/step - loss: 1.3920 - accuracy: 0.5166 - val_loss: 1.5584 - val_accuracy: 0.4457\n",
      "Epoch 9/25\n",
      "50000/50000 [==============================] - 6s 119us/step - loss: 1.3630 - accuracy: 0.5248 - val_loss: 1.5183 - val_accuracy: 0.4618\n",
      "Epoch 10/25\n",
      "50000/50000 [==============================] - 6s 119us/step - loss: 1.3332 - accuracy: 0.5359 - val_loss: 1.5010 - val_accuracy: 0.4688\n",
      "Epoch 11/25\n",
      "50000/50000 [==============================] - 6s 124us/step - loss: 1.3069 - accuracy: 0.5452 - val_loss: 1.4886 - val_accuracy: 0.4766\n",
      "Epoch 12/25\n",
      "50000/50000 [==============================] - 6s 122us/step - loss: 1.2828 - accuracy: 0.5544 - val_loss: 1.4925 - val_accuracy: 0.4716\n",
      "Epoch 13/25\n",
      "50000/50000 [==============================] - 7s 137us/step - loss: 1.2581 - accuracy: 0.5634 - val_loss: 1.4900 - val_accuracy: 0.4735\n",
      "Epoch 14/25\n",
      "50000/50000 [==============================] - 7s 145us/step - loss: 1.2377 - accuracy: 0.5706 - val_loss: 1.4690 - val_accuracy: 0.4850\n",
      "Epoch 15/25\n",
      "50000/50000 [==============================] - 7s 149us/step - loss: 1.2151 - accuracy: 0.5788 - val_loss: 1.4720 - val_accuracy: 0.4816\n",
      "Epoch 16/25\n",
      "50000/50000 [==============================] - 6s 122us/step - loss: 1.1938 - accuracy: 0.5882 - val_loss: 1.4621 - val_accuracy: 0.4896\n",
      "Epoch 17/25\n",
      "50000/50000 [==============================] - 6s 121us/step - loss: 1.1751 - accuracy: 0.5943 - val_loss: 1.4855 - val_accuracy: 0.4800\n",
      "Epoch 18/25\n",
      "50000/50000 [==============================] - 6s 121us/step - loss: 1.1543 - accuracy: 0.6029 - val_loss: 1.4657 - val_accuracy: 0.4838\n",
      "Epoch 19/25\n",
      "50000/50000 [==============================] - 6s 119us/step - loss: 1.1365 - accuracy: 0.6081 - val_loss: 1.4487 - val_accuracy: 0.4917\n",
      "Epoch 20/25\n",
      "50000/50000 [==============================] - 6s 119us/step - loss: 1.1174 - accuracy: 0.6164 - val_loss: 1.4547 - val_accuracy: 0.4873\n",
      "Epoch 21/25\n",
      "50000/50000 [==============================] - 6s 121us/step - loss: 1.1002 - accuracy: 0.6230 - val_loss: 1.4458 - val_accuracy: 0.4921\n",
      "Epoch 22/25\n",
      "50000/50000 [==============================] - 6s 119us/step - loss: 1.0823 - accuracy: 0.6311 - val_loss: 1.4604 - val_accuracy: 0.4862\n",
      "Epoch 23/25\n",
      "50000/50000 [==============================] - 6s 120us/step - loss: 1.0653 - accuracy: 0.6359 - val_loss: 1.4466 - val_accuracy: 0.4907\n",
      "Epoch 24/25\n",
      "50000/50000 [==============================] - 6s 120us/step - loss: 1.0478 - accuracy: 0.6437 - val_loss: 1.4481 - val_accuracy: 0.4962\n",
      "Epoch 25/25\n",
      "50000/50000 [==============================] - 6s 126us/step - loss: 1.0303 - accuracy: 0.6497 - val_loss: 1.4510 - val_accuracy: 0.4935\n"
     ]
    },
    {
     "data": {
      "text/plain": [
       "'Code Here\\n將 tp/tn 從訓練完的模型中取出\\n'"
      ]
     },
     "execution_count": 20,
     "metadata": {},
     "output_type": "execute_result"
    }
   ],
   "source": [
    "model = build_mlp(input_shape=x_train.shape[1:])\n",
    "model.summary()\n",
    "optimizer = keras.optimizers.SGD(lr=LEARNING_RATE, nesterov=True, momentum=MOMENTUM)\n",
    "model.compile(loss=\"categorical_crossentropy\", metrics=[\"accuracy\"], optimizer=optimizer)\n",
    "\n",
    "\"\"\"Code Here\n",
    "將 callbacks 放入模型訓練流程中\n",
    "\"\"\"\n",
    "model.fit(x_train, y_train, \n",
    "          epochs=EPOCHS, \n",
    "          batch_size=BATCH_SIZE, \n",
    "          validation_data=(x_test, y_test), \n",
    "          shuffle=True,\n",
    "          callbacks=[rec_tptn]\n",
    "        )\n",
    "\n",
    "# Collect results\n",
    "train_loss = model.history.history[\"loss\"]\n",
    "valid_loss = model.history.history[\"val_loss\"]\n",
    "train_acc = model.history.history[\"accuracy\"]\n",
    "valid_acc = model.history.history[\"val_accuracy\"]\n",
    "\n",
    "\"\"\"Code Here\n",
    "將 tp/tn 從訓練完的模型中取出\n",
    "\"\"\"\n",
    "# valid_tp = model.history.history[\"tp\"]\n",
    "# valid_tn = model.history.history[\"tn\"]"
   ]
  },
  {
   "cell_type": "code",
   "execution_count": 23,
   "metadata": {},
   "outputs": [
    {
     "name": "stdout",
     "output_type": "stream",
     "text": [
      "[1, 1, 1, 1, 1, 1, 1, 1, 1, 1, 1, 1, 1, 1, 1, 1, 1, 1, 1, 1, 1, 1, 1, 1, 1] [0, 0, 0, 0, 0, 0, 0, 0, 0, 0, 0, 0, 0, 0, 0, 0, 0, 0, 0, 0, 0, 0, 0, 0, 0]\n"
     ]
    }
   ],
   "source": [
    "valid_tp = model.history.history[\"tp\"]\n",
    "valid_tn = model.history.history[\"tn\"]\n",
    "print(valid_tp, valid_tn)"
   ]
  },
  {
   "cell_type": "code",
   "execution_count": 22,
   "metadata": {},
   "outputs": [
    {
     "data": {
      "image/png": "[encoded data removed]",
      "text/plain": [
       "<Figure size 432x288 with 1 Axes>"
      ]
     },
     "metadata": {
      "needs_background": "light"
     },
     "output_type": "display_data"
    },
    {
     "data": {
      "image/png": "[encoded data removed]",
      "text/plain": [
       "<Figure size 432x288 with 1 Axes>"
      ]
     },
     "metadata": {
      "needs_background": "light"
     },
     "output_type": "display_data"
    },
    {
     "data": {
      "image/png": "[encoded data removed]",
      "text/plain": [
       "<Figure size 432x288 with 1 Axes>"
      ]
     },
     "metadata": {
      "needs_background": "light"
     },
     "output_type": "display_data"
    }
   ],
   "source": [
    "import matplotlib.pyplot as plt\n",
    "%matplotlib inline\n",
    "\n",
    "plt.plot(range(len(train_loss)), train_loss, label=\"train loss\")\n",
    "plt.plot(range(len(valid_loss)), valid_loss, label=\"valid loss\")\n",
    "plt.legend()\n",
    "plt.title(\"Loss\")\n",
    "plt.show()\n",
    "\n",
    "plt.plot(range(len(train_acc)), train_acc, label=\"train accuracy\")\n",
    "plt.plot(range(len(valid_acc)), valid_acc, label=\"valid accuracy\")\n",
    "plt.legend()\n",
    "plt.title(\"Accuracy\")\n",
    "plt.show()\n",
    "\n",
    "plt.plot(range(len(valid_tp)), valid_tp, label=\"valid tp\", color=\"navy\")\n",
    "plt.plot(range(len(valid_tn)), valid_tn, label=\"valid tn\", color=\"red\")\n",
    "plt.legend()\n",
    "plt.title(\"True positives and True Negatives\")\n",
    "plt.show()\n"
   ]
  }
 ],
 "metadata": {
  "kernelspec": {
   "display_name": "Python 3",
   "language": "python",
   "name": "python3"
  },
  "language_info": {
   "codemirror_mode": {
    "name": "ipython",
    "version": 3
   },
   "file_extension": ".py",
   "mimetype": "text/x-python",
   "name": "python",
   "nbconvert_exporter": "python",
   "pygments_lexer": "ipython3",
   "version": "3.7.7"
  }
 },
 "nbformat": 4,
 "nbformat_minor": 2
}
