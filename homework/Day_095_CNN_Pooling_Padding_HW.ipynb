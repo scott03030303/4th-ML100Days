{
 "cells": [
  {
   "cell_type": "markdown",
   "metadata": {},
   "source": [
    "# 作業目標:\n",
    "    了解 Padding 的作法\n",
    "    \n",
    "    了解 Pooling 的作法"
   ]
  },
  {
   "cell_type": "markdown",
   "metadata": {},
   "source": [
    "# 作業重點:\n",
    "    (1) 調整Padding 的設定, 看 Pad 後的結果\n",
    "    \n",
    "    (2) 調整Pooling 的設定, 看 Poolin 後的結果"
   ]
  },
  {
   "cell_type": "code",
   "execution_count": 1,
   "metadata": {},
   "outputs": [],
   "source": [
    "import numpy as np\n",
    "import h5py\n",
    "import matplotlib.pyplot as plt\n",
    "\n",
    "# 繪圖結果直接顯示在Jupyter cell 之內\n",
    "%matplotlib inline  \n",
    "plt.rcParams['figure.figsize'] = (5.0, 4.0) #  設定繪圖板的大小\n",
    "plt.rcParams['image.interpolation'] = 'nearest'\n",
    "plt.rcParams['image.cmap'] = 'gray'\n",
    "\n",
    "# autoreload。可以讓我們不退出IPython就動態修改代碼，在執行代碼前IPython會幫我們自動重載改動的模塊\n",
    "%load_ext autoreload\n",
    "%autoreload 2\n",
    "np.random.seed(1)"
   ]
  },
  {
   "cell_type": "code",
   "execution_count": 2,
   "metadata": {},
   "outputs": [],
   "source": [
    "# GRADED FUNCTION: zero_pad\n",
    "def zero_pad(X, pad):\n",
    "    \"\"\"\n",
    "    對image X 做 zero-padding. \n",
    "    參數定義如下:\n",
    "    X -- python numpy array, 呈現維度 (m, n_H, n_W, n_C), 代表一批 m 個圖像\n",
    "         n_H: 圖高, n_W: 圖寬, n_C: color channels 數\n",
    "    pad -- 整數, 加幾圈的 zero padding.\n",
    "    Returns:\n",
    "    X_pad -- image of shape (m, n_H + 2*pad, n_W + 2*pad, n_C) 做完zero-padding 的結果\n",
    "    \"\"\"\n",
    "    \n",
    "    X_pad = np.pad(X, ((0, 0), (pad, pad), (pad, pad), (0, 0)), 'constant', constant_values=(0, 0))\n",
    "  \n",
    "    return X_pad"
   ]
  },
  {
   "cell_type": "code",
   "execution_count": 3,
   "metadata": {},
   "outputs": [
    {
     "name": "stdout",
     "output_type": "stream",
     "text": [
      "x.shape = (4, 9, 9, 3)\n",
      "x_pad.shape = (4, 11, 11, 3)\n",
      "x[1,1] = [[ 0.83600472  1.54335911  0.75880566]\n",
      " [ 0.88490881 -0.87728152 -0.86778722]\n",
      " [-1.44087602  1.23225307 -0.25417987]\n",
      " [ 1.39984394 -0.78191168 -0.43750898]\n",
      " [ 0.09542509  0.92145007  0.0607502 ]\n",
      " [ 0.21112476  0.01652757  0.17718772]\n",
      " [-1.11647002  0.0809271  -0.18657899]\n",
      " [-0.05682448  0.49233656 -0.68067814]\n",
      " [-0.08450803 -0.29736188  0.417302  ]]\n",
      "x_pad[1,1] = [[ 0.          0.          0.        ]\n",
      " [-1.39662042 -0.86131636  0.67471153]\n",
      " [ 0.61853913 -0.44317193  1.81053491]\n",
      " [-1.30572692 -0.34498721 -0.23083974]\n",
      " [-2.793085    1.93752881  0.36633201]\n",
      " [-1.04458938  2.05117344  0.585662  ]\n",
      " [ 0.42952614 -0.6069984   0.10622272]\n",
      " [-1.52568032  0.79502609 -0.37443832]\n",
      " [ 0.1340482   1.20205486  0.28474811]\n",
      " [ 0.26246745  0.2764993  -0.7332716 ]\n",
      " [ 0.          0.          0.        ]]\n"
     ]
    },
    {
     "data": {
      "text/plain": [
       "<matplotlib.image.AxesImage at 0x1d9003a5948>"
      ]
     },
     "execution_count": 3,
     "metadata": {},
     "output_type": "execute_result"
    },
    {
     "data": {
      "image/png": "[encoded data removed]",
      "text/plain": [
       "<Figure size 360x288 with 2 Axes>"
      ]
     },
     "metadata": {
      "needs_background": "light"
     },
     "output_type": "display_data"
    }
   ],
   "source": [
    "np.random.seed(1)\n",
    "\n",
    "x = np.random.randn(4, 9, 9, 3)\n",
    "x_pad = zero_pad(x, 1)\n",
    "\n",
    "print (\"x.shape =\", x.shape)\n",
    "print (\"x_pad.shape =\", x_pad.shape)\n",
    "print (\"x[1,1] =\", x[1,1])\n",
    "print (\"x_pad[1,1] =\", x_pad[1,1])\n",
    "fig, axarr = plt.subplots(1, 2)\n",
    "axarr[0].set_title('x')\n",
    "axarr[0].imshow(x[0,:,:,0])\n",
    "axarr[1].set_title('x_pad')\n",
    "axarr[1].imshow(x_pad[0,:,:,0])"
   ]
  },
  {
   "cell_type": "code",
   "execution_count": 8,
   "metadata": {},
   "outputs": [],
   "source": [
    "# GRADED FUNCTION: pool_forward\n",
    "def pool_forward(A_prev, hparameters, mode = \"max\"):\n",
    "    \"\"\"\n",
    "    設計一個前行網路的池化層\n",
    "    參數定義如下:\n",
    "    A_prev -- 輸入的numpy 陣列, 維度 (m, n_H_prev, n_W_prev, n_C_prev)\n",
    "    hparameter 超參數 --  \"f\" and \"stride\" 所形成的python 字典\n",
    "    mode -- 池化的模式: \"max\" or \"average\"\n",
    "    \n",
    "    返回:\n",
    "        A -- 輸出的池化層, 維度為 (m, n_H, n_W, n_C) 的 numpy 陣列\n",
    "        cache -- 可以應用在 backward pass pooling layer 資料, 包含 input and hparameter\n",
    "    \"\"\"\n",
    "\n",
    "    # 檢索尺寸 from the input shape\n",
    "    (m, n_H_prev, n_W_prev, n_C_prev) = A_prev.shape\n",
    " \n",
    "    # 檢索超參數 from \"hparameters\"\n",
    "    f = hparameters[\"f\"]\n",
    "    stride = hparameters[\"stride\"]\n",
    "\n",
    "    # 定義輸出的dimensions\n",
    "    n_H = int(1 + (n_H_prev - f) / stride)\n",
    "    n_W = int(1 + (n_W_prev - f) / stride)\n",
    "    n_C = n_C_prev\n",
    "\n",
    "    # 初始化輸出的 matrix A\n",
    "    A = np.zeros((m, n_H, n_W, n_C))\n",
    "\n",
    "    ### 程式起始位置  ###\n",
    "    for i in range(m): # 訓練樣本的for 迴圈\n",
    "        for h in range(n_H): # 輸出樣本的for 迴圈, 針對vertical axis\n",
    "            for w in range(n_W): #  輸出樣本的for 迴圈, 針對 horizontal axis\n",
    "                for c in range (n_C): #  輸出樣本的for 迴圈, 針對channels\n",
    "\n",
    "                     # 找出特徵圖的寬度跟高度四個點\n",
    "                    vert_start = h * stride\n",
    "                    vert_end = h * stride+ f\n",
    "                    horiz_start = w * stride\n",
    "                    horiz_end = w * stride + f\n",
    "\n",
    "                    # 定義第i個訓練示例\n",
    "                    a_prev_slice = A_prev[i, vert_start:vert_end, horiz_start:horiz_end,c]\n",
    "\n",
    "                    # 計算輸入data 的池化結果. 使用 if statment 去做分類\n",
    "                    if mode == \"max\":\n",
    "                        A[i, h, w, c] = np.max(a_prev_slice)\n",
    "                    elif mode == \"average\":\n",
    "                        A[i, h, w, c] = np.mean(a_prev_slice)\n",
    "\n",
    "                        ### 程式結束  ###\n",
    "    \n",
    "    # 儲存輸入的特徵圖跟所設定的超參數, 可以用在 pool_backward()\n",
    "    cache = (A_prev, hparameters)\n",
    "    \n",
    "    # 確認輸出的資料維度\n",
    "    assert(A.shape == (m, n_H, n_W, n_C))\n",
    "    return A, cache"
   ]
  },
  {
   "cell_type": "code",
   "execution_count": 9,
   "metadata": {},
   "outputs": [
    {
     "name": "stdout",
     "output_type": "stream",
     "text": [
      "mode = max\n",
      "A = [[[[ 1.62434536  0.86540763  0.53035547]\n",
      "   [ 1.74481176  1.46210794  1.65980218]\n",
      "   [ 0.74204416  1.6924546   1.13376944]\n",
      "   [ 1.14472371  0.90159072  2.10025514]]\n",
      "\n",
      "  [[ 0.93110208  0.58662319  0.88514116]\n",
      "   [ 1.19891788  1.25286816  1.12948391]\n",
      "   [ 1.13162939  1.51981682  2.18557541]\n",
      "   [ 0.69803203  0.87616892  1.2245077 ]]\n",
      "\n",
      "  [[ 0.80186103  0.84616065 -0.18656977]\n",
      "   [ 0.52946532  1.12141771  0.75041164]\n",
      "   [ 1.96710175  0.23249456  1.27375593]\n",
      "   [ 2.18697965  0.44136444  0.01740941]]\n",
      "\n",
      "  [[ 1.90465871  1.16033857  0.6590498 ]\n",
      "   [ 2.19069973  2.52832571  0.4202822 ]\n",
      "   [ 0.82400562  0.68006984  1.95487808]\n",
      "   [ 1.29322588  0.31354772  1.9560789 ]]]\n",
      "\n",
      "\n",
      " [[[ 0.88490881  1.54335911  1.81053491]\n",
      "   [ 1.39984394  1.93752881  0.36633201]\n",
      "   [ 0.42952614  2.05117344  0.585662  ]\n",
      "   [ 0.1340482   1.20205486  0.28474811]]\n",
      "\n",
      "  [[ 2.06578332  0.9561217   1.15528789]\n",
      "   [ 0.43816635  1.45142926  1.62284909]\n",
      "   [ 1.3887794   1.12341216  3.03085711]\n",
      "   [ 0.82458463  0.65458015 -0.05118845]]\n",
      "\n",
      "  [[ 0.92001793  0.7147896   0.85270406]\n",
      "   [ 0.61798553  0.93916874 -0.11598519]\n",
      "   [ 0.51507361  1.76795995  0.79452824]\n",
      "   [ 2.11060505  0.92061512  1.83471763]]\n",
      "\n",
      "  [[ 0.84086156  1.10417433  1.14690038]\n",
      "   [ 2.05635552  1.78975468  1.35010682]\n",
      "   [ 1.11584111  1.61336137  1.45810824]\n",
      "   [-0.4791571   2.0546241   0.6743961 ]]]]\n",
      "\n",
      "mode = average\n",
      "A = [[[[-0.26901336 -0.1027476  -0.74663192]\n",
      "   [-0.11676865  0.06601765 -0.02349101]\n",
      "   [-0.35685565  0.23603412 -0.14522755]\n",
      "   [ 0.16752519  0.57313113  0.45057515]]\n",
      "\n",
      "  [[ 0.17993737  0.29444514  0.36587848]\n",
      "   [ 0.13099772  0.512091    0.29788927]\n",
      "   [-0.31186276  0.13569856  0.28461219]\n",
      "   [-0.19016012  0.17910372  0.31830136]]\n",
      "\n",
      "  [[ 0.0568178   0.36147971 -0.89088611]\n",
      "   [-0.20937673  0.20393042  0.29960945]\n",
      "   [ 0.56268707 -1.20887167  1.05782399]\n",
      "   [ 1.13538274  0.11985041 -0.47148362]]\n",
      "\n",
      "  [[ 0.4764105   0.74027233  0.43432193]\n",
      "   [ 0.56892499  0.56968154 -0.21903686]\n",
      "   [-0.18789623 -0.4673096   0.32895308]\n",
      "   [-0.29909699 -0.56467262  0.73907116]]]\n",
      "\n",
      "\n",
      " [[[ 0.23570806 -0.15960267  0.59406622]\n",
      "   [-1.034961    0.51072075 -0.13904914]\n",
      "   [-0.07712835  0.59553817  0.23245566]\n",
      "   [-0.64123165  0.64258615 -0.23923684]]\n",
      "\n",
      "  [[ 1.16608068 -0.4271006   0.05129648]\n",
      "   [-0.13396314  0.39999157  0.15739899]\n",
      "   [-0.84059757 -0.47304011  0.5270529 ]\n",
      "   [-0.08367321 -0.014465   -0.1178344 ]]\n",
      "\n",
      "  [[-0.37547301 -0.389071    0.34161654]\n",
      "   [-0.0762973  -0.15691507 -0.81619424]\n",
      "   [-0.02034432 -0.56822435  0.40790387]\n",
      "   [ 0.35374989 -0.19427136  0.35176409]]\n",
      "\n",
      "  [[ 0.33230983 -0.16863409  0.26717053]\n",
      "   [-0.30809078  0.15306686  0.24071988]\n",
      "   [ 0.38916838  0.48133514 -0.46559998]\n",
      "   [-0.62093816  1.15548025 -0.03916603]]]]\n"
     ]
    }
   ],
   "source": [
    "np.random.seed(1)\n",
    "A_prev = np.random.randn(2, 9, 9,3) \n",
    "hparameters = {\"stride\":2, \"f\":2}\n",
    "\n",
    "A, cache = pool_forward(A_prev, hparameters)\n",
    "print(\"mode = max\")\n",
    "print(\"A =\", A)\n",
    "print()\n",
    "A, cache = pool_forward(A_prev, hparameters, mode = \"average\")\n",
    "print(\"mode = average\")\n",
    "print(\"A =\", A)"
   ]
  },
  {
   "cell_type": "code",
   "execution_count": null,
   "metadata": {},
   "outputs": [],
   "source": []
  }
 ],
 "metadata": {
  "kernelspec": {
   "display_name": "Python 3",
   "language": "python",
   "name": "python3"
  },
  "language_info": {
   "codemirror_mode": {
    "name": "ipython",
    "version": 3
   },
   "file_extension": ".py",
   "mimetype": "text/x-python",
   "name": "python",
   "nbconvert_exporter": "python",
   "pygments_lexer": "ipython3",
   "version": "3.7.7"
  }
 },
 "nbformat": 4,
 "nbformat_minor": 2
}
